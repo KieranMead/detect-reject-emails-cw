{
 "cells": [
  {
   "cell_type": "markdown",
   "metadata": {
    "jp-MarkdownHeadingCollapsed": true
   },
   "source": [
    "# Comp6481 / 8481 coursework 2024 \n",
    "\n",
    "We will be working with data from https://www.kaggle.com/datasets/sethpoly/application-rejection-emails \n",
    "\n",
    "*Detect Reject Emails* by SethPoly@kaggle\n"
   ]
  },
  {
   "cell_type": "markdown",
   "metadata": {
    "pycharm": {
     "name": "#%% md\n"
    }
   },
   "source": [
    "# Part A\n",
    "\n",
    "This notebook contains the questions for Part A of the practical coursework. \n",
    "\n",
    "Please ensure that this notebook is stored in a folder which also has the `Rejection Data - Sheet1.csv` data file\n",
    "\n",
    "When you answer these questions, include in your submission for Part A your answers and the code that you used. \n",
    "\n",
    "The most straightforward way to do this is to complete Part A within this Jupyter notebook. *Please add your answers and code per question in the indicated cells.*\n",
    "\n",
    "You can instead submit a separate python file for Part A if this is preferable for you, but remember to include:\n",
    "* your code \n",
    "* comments that: \n",
    " * clearly indicate which question each code snippet relates to, \n",
    " * contain the answer to that question.\n",
    "\n",
    "Part A is worth 20 marks in total. Each question is annotated with the number of marks that question is worth. In each question, half the marks are awarded for the code and half the marks are awarded for correct answers to the question.\n",
    "\n",
    "***Cells are provided for you to complete your answers in this notebook. Please do not edit any of the existing code and markdown already provided in this Jupyter notebook.***"
   ]
  },
  {
   "cell_type": "markdown",
   "metadata": {},
   "source": [
    "You are welcome to extend this notebook also for your Part B work, though you could also use a different notebook or python file. Please add any working for Part B at the end of this notebook if you wish to use this notebook for Part B work too.\n"
   ]
  },
  {
   "cell_type": "markdown",
   "metadata": {},
   "source": [
    "**************************************************************************************\n",
    "* Start of code adapted from https://www.kaggle.com/code/sethpoly/detect-reject-emails\n",
    "* The majority of code extracted from the original notebook is commented out below, but included for completeness\n",
    "**************************************************************************************"
   ]
  },
  {
   "cell_type": "markdown",
   "metadata": {},
   "source": [
    "# Detect Reject emails\n",
    "\n",
    "Author: Sethpoly@kaggle\n",
    "\n",
    "Link: https://www.kaggle.com/code/sethpoly/detect-reject-emails"
   ]
  },
  {
   "cell_type": "markdown",
   "metadata": {
    "papermill": {
     "duration": 0.007364,
     "end_time": "2021-02-27T19:54:38.849830",
     "exception": false,
     "start_time": "2021-02-27T19:54:38.842466",
     "status": "completed"
    },
    "tags": []
   },
   "source": [
    "## Used to detect the rejection emails from jobs applied to.\n"
   ]
  },
  {
   "cell_type": "code",
   "execution_count": 24,
   "metadata": {
    "_cell_guid": "b1076dfc-b9ad-4769-8c92-a6c4dae69d19",
    "_uuid": "8f2839f25d086af736a60e9eeb907d3b93b6e0e5",
    "papermill": {
     "duration": 0.06059,
     "end_time": "2021-02-27T19:54:38.917135",
     "exception": false,
     "start_time": "2021-02-27T19:54:38.856545",
     "status": "completed"
    },
    "tags": []
   },
   "outputs": [
    {
     "data": {
      "text/html": [
       "<div>\n",
       "<style scoped>\n",
       "    .dataframe tbody tr th:only-of-type {\n",
       "        vertical-align: middle;\n",
       "    }\n",
       "\n",
       "    .dataframe tbody tr th {\n",
       "        vertical-align: top;\n",
       "    }\n",
       "\n",
       "    .dataframe thead th {\n",
       "        text-align: right;\n",
       "    }\n",
       "</style>\n",
       "<table border=\"1\" class=\"dataframe\">\n",
       "  <thead>\n",
       "    <tr style=\"text-align: right;\">\n",
       "      <th></th>\n",
       "      <th>Email</th>\n",
       "      <th>Status</th>\n",
       "    </tr>\n",
       "  </thead>\n",
       "  <tbody>\n",
       "    <tr>\n",
       "      <th>124</th>\n",
       "      <td>Starting March 17, 2021, eBay will no longer ...</td>\n",
       "      <td>not_reject</td>\n",
       "    </tr>\n",
       "    <tr>\n",
       "      <th>125</th>\n",
       "      <td>Hi Seth,\\n\\nI want to make finding a great rem...</td>\n",
       "      <td>not_reject</td>\n",
       "    </tr>\n",
       "    <tr>\n",
       "      <th>126</th>\n",
       "      <td>Hello Seth,\\n\\nI just wanted to take a second ...</td>\n",
       "      <td>not_reject</td>\n",
       "    </tr>\n",
       "    <tr>\n",
       "      <th>127</th>\n",
       "      <td>Your free YouMail plan includes 20 in-app tran...</td>\n",
       "      <td>not_reject</td>\n",
       "    </tr>\n",
       "    <tr>\n",
       "      <th>128</th>\n",
       "      <td>\\nSupport resources for developers at all leve...</td>\n",
       "      <td>not_reject</td>\n",
       "    </tr>\n",
       "  </tbody>\n",
       "</table>\n",
       "</div>"
      ],
      "text/plain": [
       "                                                 Email      Status\n",
       "124   Starting March 17, 2021, eBay will no longer ...  not_reject\n",
       "125  Hi Seth,\\n\\nI want to make finding a great rem...  not_reject\n",
       "126  Hello Seth,\\n\\nI just wanted to take a second ...  not_reject\n",
       "127  Your free YouMail plan includes 20 in-app tran...  not_reject\n",
       "128  \\nSupport resources for developers at all leve...  not_reject"
      ]
     },
     "execution_count": 24,
     "metadata": {},
     "output_type": "execute_result"
    }
   ],
   "source": [
    "import numpy as np # linear algebra\n",
    "import pandas as pd # data processing, CSV file I/O (e.g. pd.read_csv).\n",
    "from gensim.models import Word2Vec\n",
    "import nltk\n",
    "\n",
    "df = pd.read_csv('Rejection Data - Sheet1.csv')\n",
    "df.tail()"
   ]
  },
  {
   "cell_type": "code",
   "execution_count": 25,
   "metadata": {
    "papermill": {
     "duration": 0.19294,
     "end_time": "2021-02-27T19:54:39.117736",
     "exception": false,
     "start_time": "2021-02-27T19:54:38.924796",
     "status": "completed"
    },
    "tags": []
   },
   "outputs": [
    {
     "data": {
      "text/html": [
       "<div>\n",
       "<style scoped>\n",
       "    .dataframe tbody tr th:only-of-type {\n",
       "        vertical-align: middle;\n",
       "    }\n",
       "\n",
       "    .dataframe tbody tr th {\n",
       "        vertical-align: top;\n",
       "    }\n",
       "\n",
       "    .dataframe thead th {\n",
       "        text-align: right;\n",
       "    }\n",
       "</style>\n",
       "<table border=\"1\" class=\"dataframe\">\n",
       "  <thead>\n",
       "    <tr style=\"text-align: right;\">\n",
       "      <th></th>\n",
       "      <th>Email</th>\n",
       "      <th>Status</th>\n",
       "    </tr>\n",
       "  </thead>\n",
       "  <tbody>\n",
       "    <tr>\n",
       "      <th>124</th>\n",
       "      <td>Starting March 17, 2021, eBay will no longer ...</td>\n",
       "      <td>not_reject</td>\n",
       "    </tr>\n",
       "    <tr>\n",
       "      <th>125</th>\n",
       "      <td>Hi Seth,  I want to make finding a great remot...</td>\n",
       "      <td>not_reject</td>\n",
       "    </tr>\n",
       "    <tr>\n",
       "      <th>126</th>\n",
       "      <td>Hello Seth,  I just wanted to take a second to...</td>\n",
       "      <td>not_reject</td>\n",
       "    </tr>\n",
       "    <tr>\n",
       "      <th>127</th>\n",
       "      <td>Your free YouMail plan includes 20 in-app tran...</td>\n",
       "      <td>not_reject</td>\n",
       "    </tr>\n",
       "    <tr>\n",
       "      <th>128</th>\n",
       "      <td>Support resources for developers at all level...</td>\n",
       "      <td>not_reject</td>\n",
       "    </tr>\n",
       "  </tbody>\n",
       "</table>\n",
       "</div>"
      ],
      "text/plain": [
       "                                                 Email      Status\n",
       "124   Starting March 17, 2021, eBay will no longer ...  not_reject\n",
       "125  Hi Seth,  I want to make finding a great remot...  not_reject\n",
       "126  Hello Seth,  I just wanted to take a second to...  not_reject\n",
       "127  Your free YouMail plan includes 20 in-app tran...  not_reject\n",
       "128   Support resources for developers at all level...  not_reject"
      ]
     },
     "execution_count": 25,
     "metadata": {},
     "output_type": "execute_result"
    }
   ],
   "source": [
    "import string\n",
    "import matplotlib.pyplot as plt\n",
    "import nltk\n",
    "\n",
    "\n",
    "# For the purposes of this assessment, all text processing actions in this cell have been removed except the replacement of newline characters by space characters\n",
    "\n",
    "# convert email text to lowercase\n",
    "#df.Email = df.Email.apply(lambda x: x.lower())\n",
    "# remove punctuation\n",
    "#df.Email = df.Email.apply(lambda x: x.translate(str.maketrans('','', string.punctuation)))\n",
    "# remove numbers\n",
    "#df.Email = df.Email.apply(lambda x: x.translate(str.maketrans('','','1234567890')))\n",
    "# remove newline tags\n",
    "df.Email = df.Email.apply(lambda x: x.translate(str.maketrans('\\n',' ')))\n",
    "df.tail()\n",
    "\n"
   ]
  },
  {
   "cell_type": "code",
   "execution_count": 26,
   "metadata": {},
   "outputs": [
    {
     "data": {
      "image/png": "[encoded data removed]",
      "text/plain": [
       "<Figure size 640x480 with 1 Axes>"
      ]
     },
     "metadata": {},
     "output_type": "display_data"
    }
   ],
   "source": [
    "df.Status.value_counts().plot(kind='bar')\n",
    "plt.show()"
   ]
  },
  {
   "cell_type": "code",
   "execution_count": 27,
   "metadata": {},
   "outputs": [
    {
     "name": "stdout",
     "output_type": "stream",
     "text": [
      "['Thank', 'you', 'for', 'applying', 'to', 'the', 'Junior', 'Software', 'Developer', 'position', 'at', 'MSC', 'Technology', '.', 'Unfortunately', ',', 'MSC', 'Technology', 'has', 'moved', 'to', 'the', 'next', 'step', 'in', 'their', 'hiring', 'process', ',', 'and', 'your', 'application', 'was', 'not', 'selected', 'at', 'this', 'time', '.']\n"
     ]
    }
   ],
   "source": [
    "# Add a column 'Tokens' to df, to hold the email contents as a list of tokens\n",
    "df['Tokens'] = [nltk.word_tokenize(e) for e in df.Email]\n",
    "\n",
    "print(df.Tokens[0])"
   ]
  },
  {
   "cell_type": "code",
   "execution_count": 28,
   "metadata": {
    "papermill": {
     "duration": 1.177122,
     "end_time": "2021-02-27T19:54:40.303234",
     "exception": false,
     "start_time": "2021-02-27T19:54:39.126112",
     "status": "completed"
    },
    "tags": []
   },
   "outputs": [],
   "source": [
    "#from sklearn.feature_extraction.text import CountVectorizer\n",
    "#from sklearn.feature_extraction.text import TfidfVectorizer, TfidfTransformer\n",
    "#from sklearn.preprocessing import LabelEncoder\n",
    "#from sklearn.naive_bayes import MultinomialNB\n",
    "#from sklearn.model_selection import train_test_split\n",
    "#from sklearn.metrics import confusion_matrix\n",
    "#from sklearn.model_selection import cross_val_score\n",
    "#from sklearn.metrics import classification_report\n",
    "\n",
    "# pull data into vectors to create collection of text/tokens\n",
    "#vectorizer = CountVectorizer()\n",
    "#x = vectorizer.fit_transform(df.Email)\n",
    "\n",
    "#encoder = LabelEncoder()\n",
    "#y = encoder.fit_transform(df.Status)\n",
    "\n",
    "# split into train and test sets\n",
    "#x_train, x_test, y_train, y_test = train_test_split(x, y, test_size=0.2)\n",
    "\n",
    "# Shape of sets\n",
    "#print(x_train.shape)\n",
    "#print(y_train.shape)\n",
    "#print(x_test.shape)\n",
    "#print(y_test.shape)"
   ]
  },
  {
   "cell_type": "code",
   "execution_count": 29,
   "metadata": {
    "papermill": {
     "duration": 0.026863,
     "end_time": "2021-02-27T19:54:40.338645",
     "exception": false,
     "start_time": "2021-02-27T19:54:40.311782",
     "status": "completed"
    },
    "tags": []
   },
   "outputs": [],
   "source": [
    "#%%time\n",
    "#nb = MultinomialNB()\n",
    "#nb.fit(x_train, y_train)"
   ]
  },
  {
   "cell_type": "code",
   "execution_count": 30,
   "metadata": {
    "papermill": {
     "duration": 0.022428,
     "end_time": "2021-02-27T19:54:40.370422",
     "exception": false,
     "start_time": "2021-02-27T19:54:40.347994",
     "status": "completed"
    },
    "tags": []
   },
   "outputs": [],
   "source": [
    "#def predict_reject(email):\n",
    "#    category_names = {'reject':'reject','not_reject':'not-reject'}\n",
    "#    cod = nb.predict(vectorizer.transform([email]))\n",
    "#    return category_names[encoder.inverse_transform(cod)[0]]\n",
    "\n",
    "#print(predict_reject('Unfortunately we will not be moving forward'))\n",
    "#print(predict_reject('I found some job listings you may be interested in'))\n",
    "#print(predict_reject('We were very fortunate to have a strong group of applicants to consider for this role and have recently filled this position. Unfortunately, because this role is no longer available, we will not be moving forward with your application.'))\n",
    "#print(predict_reject(''))\n"
   ]
  },
  {
   "cell_type": "code",
   "execution_count": 31,
   "metadata": {
    "papermill": {
     "duration": 0.170594,
     "end_time": "2021-02-27T19:54:40.550675",
     "exception": false,
     "start_time": "2021-02-27T19:54:40.380081",
     "status": "completed"
    },
    "tags": []
   },
   "outputs": [],
   "source": [
    "#from sklearn.linear_model import LogisticRegression\n",
    "#from sklearn.multiclass import OneVsRestClassifier\n",
    "\n",
    "# Init the classfifier\n",
    "#clf = OneVsRestClassifier(LogisticRegression())\n",
    "\n",
    "# Fit classifier to training data\n",
    "#clf.fit(x_train, y_train)\n",
    "\n",
    "# Print accuracy\n",
    "#print(f'Accuracy: {clf.score(x_test, y_test)}')"
   ]
  },
  {
   "cell_type": "code",
   "execution_count": 32,
   "metadata": {
    "papermill": {
     "duration": 0.027733,
     "end_time": "2021-02-27T19:54:40.591067",
     "exception": false,
     "start_time": "2021-02-27T19:54:40.563334",
     "status": "completed"
    },
    "tags": []
   },
   "outputs": [],
   "source": [
    "#x_test_clv_pred = clf.predict(x_test)\n",
    "#confusion_matrix(y_test, x_test_clv_pred)\n",
    "#print(classification_report(y_test, x_test_clv_pred, target_names=encoder.classes_))"
   ]
  },
  {
   "cell_type": "markdown",
   "metadata": {
    "papermill": {
     "duration": 0.010251,
     "end_time": "2021-02-27T19:54:40.612159",
     "exception": false,
     "start_time": "2021-02-27T19:54:40.601908",
     "status": "completed"
    },
    "tags": []
   },
   "source": [
    " - Inspiration and code samples from https://towardsdatascience.com/i-built-a-reject-not-reject-email-classifier-for-my-job-applications-844a3b6cd67e"
   ]
  },
  {
   "cell_type": "markdown",
   "metadata": {},
   "source": [
    "**************************************************************************************\n",
    "* End of code adapted from https://www.kaggle.com/code/sethpoly/detect-reject-emails\n",
    "**************************************************************************************"
   ]
  },
  {
   "cell_type": "markdown",
   "metadata": {},
   "source": [
    "# Coursework questions for Part A:\n",
    "\n",
    "For each question, please add your code to the empty code cell below the question, and please add any written answers/comments to the empty markdown cell below the question, as indicated. \n",
    "\n",
    "***You are allowed to add additional code markdown cells as needed below this point. Please do not edit any of the existing code and markdown already provided in this Jupyter notebook.***\n"
   ]
  },
  {
   "cell_type": "markdown",
   "metadata": {},
   "source": [
    "## Q1 [2 marks]\n",
    "\n",
    "Add a column to the `df` data frame named `Length`, which holds the number of tokens in the tokenised list representing that email (i.e. the number of items in the list in `df.Tokens` for each row)"
   ]
  },
  {
   "cell_type": "code",
   "execution_count": 33,
   "metadata": {},
   "outputs": [],
   "source": [
    "# Answer to Q1\n",
    "df['Length'] = [len(tokens) for tokens in df ['Tokens']]\n"
   ]
  },
  {
   "cell_type": "code",
   "execution_count": 34,
   "metadata": {},
   "outputs": [
    {
     "name": "stdout",
     "output_type": "stream",
     "text": [
      "0       39\n",
      "1       47\n",
      "2      139\n",
      "3       49\n",
      "4       81\n",
      "      ... \n",
      "124    133\n",
      "125     87\n",
      "126     58\n",
      "127     34\n",
      "128    146\n",
      "Name: Length, Length: 129, dtype: int64\n"
     ]
    }
   ],
   "source": [
    "#Do not edit this cell, except that you can uncomment the line below for testing your answer to this question\n",
    "print(df['Length'])\n"
   ]
  },
  {
   "cell_type": "markdown",
   "metadata": {},
   "source": [
    "## Q2. \n",
    "\n",
    "### Q2a [2 marks] \n",
    "\n",
    "Choose an appropriate visualisation to create a visualisation of the Length and Status data in `df`, after you have completed Q1.\n",
    "\n",
    "You can consult the lectures on visualisation and also use the following docs to help guide you and give you inspiration:\n",
    "\n",
    "https://matplotlib.org/stable/plot_types/basic/index.html\n",
    "https://realpython.com/pandas-plot-python/\n",
    "https://pandas.pydata.org/docs/reference/api/pandas.DataFrame.plot.html\n",
    "https://www.w3schools.com/python/matplotlib_intro.asp\n",
    "\n",
    "### Q2b [2 marks] \n",
    "\n",
    "Give a brief comment in the markdown box below about why you have chosen the visualisation you did, with reference to the type of data you are visualising.\n",
    "\n",
    "Add a comment answering the question: \"Do you see any patterns in your visualisation of the data frame data on email Length and email Status?\""
   ]
  },
  {
   "cell_type": "code",
   "execution_count": 35,
   "metadata": {},
   "outputs": [
    {
     "data": {
      "image/png": "[encoded data removed]",
      "text/plain": [
       "<Figure size 640x480 with 1 Axes>"
      ]
     },
     "metadata": {},
     "output_type": "display_data"
    }
   ],
   "source": [
    "# Answer to Q2a\n",
    "df.boxplot(column='Length', by='Status')\n",
    "plt.xlabel('Status')\n",
    "plt.ylabel('Length')\n",
    "plt.show()"
   ]
  },
  {
   "cell_type": "markdown",
   "metadata": {},
   "source": [
    "Write your answer to Q2b here:\n",
    "\n",
    "I chose a boxplot because it is a good balance of displaying the status which is categorical data and the length which is numerical data. It also shows outliers clearly as well as interquartile range which is the box, median which is the green line and the minimum and maximum values at the bottom and top and you can see the not_reject email has more outliers and a higher maximum than the reject.\n",
    "\n",
    "Also Not_reject emails contain more tokens then reject tokens\n",
    "\n",
    "\n"
   ]
  },
  {
   "cell_type": "markdown",
   "metadata": {},
   "source": [
    "## Q3. [4 marks] \n",
    "\n",
    "We have defined a measure of `lexical richness` as: the number of unique tokens in a text, divided by the total number of tokens in that text. \n",
    "\n",
    "[We have also defined a second measure: how many times, on average, is each token used in the text? We will *not* use that measure here.]\n",
    "\n",
    "Add a column to the data frame `df` named `LexRich`, which calculates the lexical richness for each email in the dataset.\n",
    "\n"
   ]
  },
  {
   "cell_type": "code",
   "execution_count": 36,
   "metadata": {},
   "outputs": [],
   "source": [
    "# Answer for Q3\n",
    "df['LexRich'] = [len(set(tokens)) / len(tokens) for tokens in df['Tokens']]\n"
   ]
  },
  {
   "cell_type": "code",
   "execution_count": 37,
   "metadata": {},
   "outputs": [
    {
     "name": "stdout",
     "output_type": "stream",
     "text": [
      "0      0.820513\n",
      "1      0.765957\n",
      "2      0.669065\n",
      "3      0.673469\n",
      "4      0.703704\n",
      "         ...   \n",
      "124    0.556391\n",
      "125    0.735632\n",
      "126    0.793103\n",
      "127    0.794118\n",
      "128    0.719178\n",
      "Name: LexRich, Length: 129, dtype: float64\n"
     ]
    }
   ],
   "source": [
    "#Do not edit this cell, except that you can uncomment the line below for testing your answer to this question\n",
    "print(df['LexRich'])"
   ]
  },
  {
   "cell_type": "markdown",
   "metadata": {},
   "source": [
    "## Q4. \n",
    "\n",
    "For Q4a and Q4b, note that we can access all the data in df with the Status = 'reject', using this code:\n",
    "\n",
    "print(df[df.Status=='reject'])\n",
    "\n",
    "###  Q4a: [4 marks] \n",
    "\n",
    "Calculate two variables, `lex_reject` and `lex_not_reject`\n",
    "* `lex_reject' = the mean lexical richness for the `reject' emails\n",
    "* `lex_not_reject' = the mean lexical richness for the `not_reject' emails\n",
    "\n",
    "###  Q4b: [2 marks] \n",
    "Comment briefly on the difference: what does this tell us about how the variety of vocabulary use differs between reject emails and not_reject emails? [approx 2-4 sentences]"
   ]
  },
  {
   "cell_type": "code",
   "execution_count": 38,
   "metadata": {},
   "outputs": [
    {
     "name": "stdout",
     "output_type": "stream",
     "text": [
      "                                                Email  Status  \\\n",
      "0   Thank you for applying to the Junior Software ...  reject   \n",
      "1   Thank you for your interest in the Train To Hi...  reject   \n",
      "2   eth,   Thank you for your interest in Exyn and...  reject   \n",
      "3   Thank you for your interest in the Software En...  reject   \n",
      "4   Hi Seth,  Thank you for your interest in PathA...  reject   \n",
      "..                                                ...     ...   \n",
      "60  Thank you for your interest in the 2020-45452 ...  reject   \n",
      "61  Thank you for your interest in the SOFTWARE EN...  reject   \n",
      "62  Thank you for your interest in UPS and the \"So...  reject   \n",
      "63  Thank you for applying for the position of 014...  reject   \n",
      "64  Thank you for your interest in The Allen Insti...  reject   \n",
      "\n",
      "                                               Tokens  Length   LexRich  \n",
      "0   [Thank, you, for, applying, to, the, Junior, S...      39  0.820513  \n",
      "1   [Thank, you, for, your, interest, in, the, Tra...      47  0.765957  \n",
      "2   [eth, ,, Thank, you, for, your, interest, in, ...     139  0.669065  \n",
      "3   [Thank, you, for, your, interest, in, the, Sof...      49  0.673469  \n",
      "4   [Hi, Seth, ,, Thank, you, for, your, interest,...      81  0.703704  \n",
      "..                                                ...     ...       ...  \n",
      "60  [Thank, you, for, your, interest, in, the, 202...      48  0.833333  \n",
      "61  [Thank, you, for, your, interest, in, the, SOF...     129  0.651163  \n",
      "62  [Thank, you, for, your, interest, in, UPS, and...      76  0.750000  \n",
      "63  [Thank, you, for, applying, for, the, position...      78  0.692308  \n",
      "64  [Thank, you, for, your, interest, in, The, All...     143  0.622378  \n",
      "\n",
      "[65 rows x 5 columns]\n"
     ]
    }
   ],
   "source": [
    "# We can access all the data in df with the Status = 'reject', using this code:\n",
    "print(df[df.Status=='reject'])"
   ]
  },
  {
   "cell_type": "code",
   "execution_count": 39,
   "metadata": {},
   "outputs": [],
   "source": [
    "# Answer for Q4a\n",
    "lex_reject = df[df.Status == 'reject']['LexRich'].mean()\n",
    "lex_not_reject = df[df.Status == 'not_reject']['LexRich'].mean()"
   ]
  },
  {
   "cell_type": "code",
   "execution_count": 40,
   "metadata": {},
   "outputs": [
    {
     "name": "stdout",
     "output_type": "stream",
     "text": [
      "0.7224843001105477\n",
      "0.7282174937343919\n"
     ]
    }
   ],
   "source": [
    "#Do not edit this cell, except that you can uncomment the line below for testing your answer to this question\n",
    "print(lex_reject)\n",
    "print(lex_not_reject)"
   ]
  },
  {
   "cell_type": "markdown",
   "metadata": {},
   "source": [
    "Write your answer for Q4b here:\n",
    "\n",
    "<b>\n",
    "the top one which is for reject emails shows us that 72.2% of the tokens in rejection emails were unique to each email because we were looking for the mean richness.\n",
    "\n",
    "\n",
    "the bottom one which is for not_reject is 72.8% lexically rich so meaning that 72.8% of the tokens are unique to each not_reject email.\n",
    "\n",
    "As we can see there is a very slight diffrence in reject and not_reject emails lexical richness however, it is very small which concludes that the variety of vocabulary used is not to dissimilar between reject and non_reject emails\n",
    "</b>\n"
   ]
  },
  {
   "cell_type": "markdown",
   "metadata": {},
   "source": [
    "## Q5. [4 marks]\n",
    "\n",
    "Train a Word2Vec model called `model` using the following input parameters:\n",
    "* `sentences` as the data in `df.Tokens`\n",
    "* a `vector_size` of 100\n",
    "* a `window` of 5\n",
    "* a `min_count` of 1\n",
    "* a `workers` of 4\n",
    "\n",
    "Using your Word2Vec `model`, list the top 20 most similar tokens to the token `developer`."
   ]
  },
  {
   "cell_type": "code",
   "execution_count": 41,
   "metadata": {},
   "outputs": [],
   "source": [
    "# Answer to Q5 \n",
    "model = Word2Vec(sentences=df.Tokens, vector_size=100, window=5, min_count=1, workers=4)"
   ]
  },
  {
   "cell_type": "code",
   "execution_count": 42,
   "metadata": {},
   "outputs": [
    {
     "name": "stdout",
     "output_type": "stream",
     "text": [
      "1 : 0.9165237545967102\n",
      "want : 0.9133905172348022\n",
      "move : 0.9120628237724304\n",
      "visit : 0.9111905097961426\n",
      "reviewed : 0.9109075665473938\n",
      "any : 0.9107699990272522\n",
      "been : 0.9104707837104797\n",
      "ago : 0.9104697108268738\n",
      "clients : 0.9101900458335876\n",
      "but : 0.9101880192756653\n",
      "what : 0.9100486636161804\n",
      "consider : 0.9099218845367432\n",
      "experience : 0.9097030162811279\n",
      "also : 0.9095575213432312\n",
      "one : 0.9095483422279358\n",
      "position : 0.9095293283462524\n",
      "success : 0.9094367623329163\n",
      "fit : 0.9094114899635315\n",
      "how : 0.9094082117080688\n",
      "interest : 0.9093652963638306\n"
     ]
    }
   ],
   "source": [
    "similar_words = model.wv.most_similar('developer', topn=20)\n",
    "\n",
    "for token, similarity in similar_words:\n",
    "    print(token, \":\", similarity)\n",
    "\n"
   ]
  },
  {
   "cell_type": "markdown",
   "metadata": {},
   "source": [
    "# End of Part A"
   ]
  },
  {
   "cell_type": "markdown",
   "metadata": {},
   "source": [
    "If you wish to use this notebook for any code or calculations for Part B, please do so by adding cells below here."
   ]
  },
  {
   "cell_type": "code",
   "execution_count": 43,
   "metadata": {},
   "outputs": [
    {
     "name": "stdout",
     "output_type": "stream",
     "text": [
      "interest: 0.030181086519114688 (Raw count: 75)\n",
      "Thank: 0.026559356136820925 (Raw count: 66)\n",
      "Software: 0.018108651911468814 (Raw count: 45)\n",
      "Unfortunately,: 0.017303822937625755 (Raw count: 43)\n",
      "position: 0.016498993963782696 (Raw count: 41)\n",
      "forward: 0.013682092555331992 (Raw count: 34)\n",
      "time: 0.012877263581488933 (Raw count: 32)\n",
      "appreciate: 0.010865191146881288 (Raw count: 27)\n",
      "Engineer: 0.01006036217303823 (Raw count: 25)\n",
      "time.: 0.008853118712273641 (Raw count: 22)\n",
      "job: 0.008853118712273641 (Raw count: 22)\n",
      "decided: 0.008450704225352112 (Raw count: 21)\n",
      "wish: 0.008450704225352112 (Raw count: 21)\n",
      "best: 0.008450704225352112 (Raw count: 21)\n",
      "application: 0.008048289738430584 (Raw count: 20)\n",
      "Developer: 0.007645875251509054 (Raw count: 19)\n",
      "move: 0.007243460764587525 (Raw count: 18)\n",
      "Regards,: 0.007243460764587525 (Raw count: 18)\n",
      "moving: 0.006841046277665996 (Raw count: 17)\n",
      "career: 0.006438631790744467 (Raw count: 16)\n",
      "applying: 0.006036217303822937 (Raw count: 15)\n",
      "next: 0.006036217303822937 (Raw count: 15)\n",
      "hiring: 0.006036217303822937 (Raw count: 15)\n",
      "selected: 0.006036217303822937 (Raw count: 15)\n",
      "opportunities: 0.006036217303822937 (Raw count: 15)\n",
      "Inc.: 0.006036217303822937 (Raw count: 15)\n",
      "Please: 0.005633802816901409 (Raw count: 14)\n",
      "us: 0.005633802816901409 (Raw count: 14)\n",
      "Team: 0.005633802816901409 (Raw count: 14)\n",
      "apply: 0.005633802816901409 (Raw count: 14)\n"
     ]
    },
    {
     "name": "stderr",
     "output_type": "stream",
     "text": [
      "[nltk_data] Downloading package stopwords to\n",
      "[nltk_data]     C:\\Users\\kiera\\AppData\\Roaming\\nltk_data...\n",
      "[nltk_data]   Package stopwords is already up-to-date!\n"
     ]
    }
   ],
   "source": [
    "from collections import Counter\n",
    "import nltk\n",
    "from nltk.corpus import stopwords\n",
    "\n",
    "nltk.download('stopwords')\n",
    "\n",
    "stop_words = set(stopwords.words('english'))\n",
    "\n",
    "rejection_emails = df[df['Status'] == 'reject']\n",
    "\n",
    "rejection_tokens = [word for email in rejection_emails['Email'] for word in email.split() if word.lower() not in stop_words]\n",
    "\n",
    "word_counts = Counter(rejection_tokens)\n",
    "\n",
    "total_words = sum(word_counts.values())\n",
    "sorted_word_frequencies = sorted(((word, count / total_words) for word, count in word_counts.items()), key=lambda x: x[1], reverse=True)\n",
    "\n",
    "\n",
    "\n",
    "for word, frequency in sorted_word_frequencies[:30]:\n",
    "    raw_count = word_counts[word]  # Raw count of the word\n",
    "    print(f\"{word}: {frequency} (Raw count: {raw_count})\")\n"
   ]
  },
  {
   "cell_type": "code",
   "execution_count": 44,
   "metadata": {},
   "outputs": [
    {
     "name": "stdout",
     "output_type": "stream",
     "text": [
      "-: 0.012188208616780046 (Raw count: 43)\n",
      "Software: 0.01020408163265306 (Raw count: 36)\n",
      "Engineer: 0.007086167800453515 (Raw count: 25)\n",
      "Thank: 0.006802721088435374 (Raw count: 24)\n",
      "application: 0.005668934240362812 (Raw count: 20)\n",
      "job: 0.005385487528344671 (Raw count: 19)\n",
      "get: 0.00510204081632653 (Raw count: 18)\n",
      "Detective: 0.00510204081632653 (Raw count: 18)\n",
      "please: 0.0045351473922902496 (Raw count: 16)\n",
      "experience: 0.0045351473922902496 (Raw count: 16)\n",
      "*: 0.0045351473922902496 (Raw count: 16)\n",
      "Please: 0.004251700680272109 (Raw count: 15)\n",
      "know: 0.003968253968253968 (Raw count: 14)\n",
      "email: 0.003968253968253968 (Raw count: 14)\n",
      "resume: 0.003968253968253968 (Raw count: 14)\n",
      "Reasoning: 0.003968253968253968 (Raw count: 14)\n",
      "interest: 0.0036848072562358277 (Raw count: 13)\n",
      "Developer: 0.0036848072562358277 (Raw count: 13)\n",
      "Team: 0.003401360544217687 (Raw count: 12)\n",
      "free: 0.003401360544217687 (Raw count: 12)\n",
      "us: 0.003401360544217687 (Raw count: 12)\n",
      "account: 0.003401360544217687 (Raw count: 12)\n",
      "development: 0.003401360544217687 (Raw count: 12)\n",
      "let: 0.0031179138321995466 (Raw count: 11)\n",
      "Seth,: 0.0031179138321995466 (Raw count: 11)\n",
      "|: 0.0031179138321995466 (Raw count: 11)\n",
      "Posted: 0.0031179138321995466 (Raw count: 11)\n",
      "ago: 0.0031179138321995466 (Raw count: 11)\n",
      "Prime: 0.0031179138321995466 (Raw count: 11)\n",
      "next: 0.002834467120181406 (Raw count: 10)\n"
     ]
    },
    {
     "name": "stderr",
     "output_type": "stream",
     "text": [
      "[nltk_data] Downloading package stopwords to\n",
      "[nltk_data]     C:\\Users\\kiera\\AppData\\Roaming\\nltk_data...\n",
      "[nltk_data]   Package stopwords is already up-to-date!\n"
     ]
    }
   ],
   "source": [
    "from collections import Counter\n",
    "import nltk\n",
    "from nltk.corpus import stopwords\n",
    "\n",
    "nltk.download('stopwords')\n",
    "\n",
    "stop_words = set(stopwords.words('english'))\n",
    "\n",
    "non_rejection_emails = df[df['Status'] == 'not_reject']\n",
    "\n",
    "non_rejection_tokens = [word for email in non_rejection_emails['Email'] for word in email.split() if word.lower() not in stop_words]\n",
    "\n",
    "counts_non_rejection = Counter(non_rejection_tokens)\n",
    "\n",
    "total_words_non_rejection = sum(counts_non_rejection.values())\n",
    "sorted_word_frequencies_non_rejection = sorted(((word, count / total_words_non_rejection) for word, count in counts_non_rejection.items()), key=lambda x: x[1], reverse=True)\n",
    "\n",
    "for word, frequency in sorted_word_frequencies_non_rejection[:30]:\n",
    "    raw_count = counts_non_rejection[word]  # Raw count of the word\n",
    "    print(f\"{word}: {frequency} (Raw count: {raw_count})\")\n"
   ]
  },
  {
   "cell_type": "code",
   "execution_count": 45,
   "metadata": {},
   "outputs": [
    {
     "name": "stdout",
     "output_type": "stream",
     "text": [
      "Thank you for applying to the Junior Software Developer position at MSC Technology. Unfortunately, MSC Technology has moved to the next step in their hiring process, and your application was not selected at this time.\n",
      "Sentiment scores: {'neg': 0.063, 'neu': 0.871, 'pos': 0.066, 'compound': 0.0258}\n",
      "Neutral\n",
      "\n",
      "Thank you for your interest in the Train To Hire - Junior Software Developer position at Mindlance in Chicago, Illinois, United States. Unfortunately, we will not be moving forward with your application, but we appreciate your time and interest in Mindlance.\n",
      "Sentiment scores: {'neg': 0.035, 'neu': 0.695, 'pos': 0.27, 'compound': 0.8885}\n",
      "Positive\n",
      "\n",
      "eth,   Thank you for your interest in Exyn and for applying to be apart of our team as a Software Engineer, Product. We appreciate the opportunity to learn more about you and your professional accomplishments.  We were fortunate to have received so many terrific applications.  Although we were impressed with your background, we have decided to move forward with candidates whose skills and experiences are better aligned with that which we're seeking for this particular role.  As Exyn continues to grow, we’ll keep your information on file and look forward to reaching out to you when the right opportunity arises.  In the meantime, we wish you much success in your job search and career.   Best wishes,  The People & Culture team at Exyn Technologies\n",
      "Sentiment scores: {'neg': 0.0, 'neu': 0.729, 'pos': 0.271, 'compound': 0.9892}\n",
      "Positive\n",
      "\n",
      "Thank you for your interest in the Software Engineer position at Lantana Consulting Group in Vermont, United States. Unfortunately, we will not be moving forward with your application, but we appreciate your time and interest in Lantana Consulting Group.  Regards,  Lantana Consulting Group\n",
      "Sentiment scores: {'neg': 0.033, 'neu': 0.713, 'pos': 0.254, 'compound': 0.8885}\n",
      "Positive\n",
      "\n",
      "Hi Seth,  Thank you for your interest in PathAI! Unfortunately, the hiring team has decided not to move forward with your candidacy at this time.   Please feel free to keep in touch and reach out again in the future. You can connect with us on LinkedIN, Twitter, and AngelList.   We appreciate your time and consideration, and wish you the best of luck with your search.  Take care,  PathAI Hiring Team\n",
      "Sentiment scores: {'neg': 0.027, 'neu': 0.658, 'pos': 0.315, 'compound': 0.9747}\n",
      "Positive\n",
      "\n",
      "Hi Seth,       Thank you for taking the time to apply for our Software Engineer I. Given the number of opportunities available for career growth and development we appreciate you considering Chewy.      We received a large number of applicants for this role and after careful consideration and review we’re unfortunately unable to move forward with your candidacy at this time.         We have your information on file and will reach out in the future should there be another opportunity we feel is a good match. We wish you all the best in your job search and on your future endeavors. Kind Regards,  The Chewy Campus Recruiting Team\n",
      "Sentiment scores: {'neg': 0.019, 'neu': 0.723, 'pos': 0.258, 'compound': 0.9758}\n",
      "Positive\n",
      "\n",
      "Thank you for your interest in the Entry Level Software Developer position at ProSearch in Brunswick, Maine, United States. Unfortunately, we will not be moving forward with your application, but we appreciate your time and interest in ProSearch. Regards, ProSearch\n",
      "Sentiment scores: {'neg': 0.035, 'neu': 0.695, 'pos': 0.27, 'compound': 0.8885}\n",
      "Positive\n",
      "\n",
      "Thank you for your interest in the Software Engineer position at Shields Health Solutions in Stoughton, Massachusetts, United States.  Unfortunately, Shields Health Solutions did not select your application to move forward in the hiring process.  Regards, Shields Health Solutions\n",
      "Sentiment scores: {'neg': 0.05, 'neu': 0.669, 'pos': 0.28, 'compound': 0.8402}\n",
      "Positive\n",
      "\n",
      "Seth,  Thanks for your interest in the Software Engineer position at Concinnate Solutions in Washington, District of Columbia, United States. Unfortunately, we will not be moving forward with your application but we appreciate your time and interest in Concinnate Solutions.  Regards, Concinnate Solutions\n",
      "Sentiment scores: {'neg': 0.031, 'neu': 0.623, 'pos': 0.346, 'compound': 0.9343}\n",
      "Positive\n",
      "\n",
      "Thank you for your interest in the Software Engineer position at Silicon Integration Initiative, Inc. in Austin, Texas, United States. Unfortunately, we will not be moving forward with your application, but we appreciate your time and interest in Silicon Integration Initiative, Inc..  Regards,  Silicon Integration Initiative, Inc.\n",
      "Sentiment scores: {'neg': 0.03, 'neu': 0.733, 'pos': 0.236, 'compound': 0.8885}\n",
      "Positive\n",
      "\n",
      "Thank you for applying to the Java Developer position at Sports Information Analysis. Unfortunately, Sports Information Analysis has moved to the next step in their hiring process, and your application was not selected at this time.\n",
      "Sentiment scores: {'neg': 0.062, 'neu': 0.874, 'pos': 0.064, 'compound': 0.0258}\n",
      "Neutral\n",
      "\n",
      "Thank you for your interest in RCCo. Unfortunately, at this time we are both hiring for the position of Junior Developer. We will keep your CV on file if the position opens on a future date. We wish you the best in your job search, and the best of the season as well. \n",
      "Sentiment scores: {'neg': 0.036, 'neu': 0.681, 'pos': 0.283, 'compound': 0.946}\n",
      "Positive\n",
      "\n",
      "Thank you for applying to the ENTRY-LEVEL WEB PROGRAMMER position at Oahu Publications, Inc.. Unfortunately, Oahu Publications, Inc. has moved to the next step in their hiring process, and your application was not selected at this time.\n",
      "Sentiment scores: {'neg': 0.06, 'neu': 0.877, 'pos': 0.063, 'compound': 0.0258}\n",
      "Neutral\n",
      "\n",
      "Seth,  Thank you for your interest in our Software Engineer opening. Unfortunately, we have decided to pursue other candidates who are more aligned to our needs at this time.   We want to highlight that many of our portfolio companies are currently hiring and your skill set may be a match for their needs. Here is the link to a website where all Techstars Portfolio companies post their open jobs around the globe: jobs.techstars.com.   Thank you again for your interest in an employment opportunity with Techstars, and we wish you the best in your current job search.  Sincerely, The Techstars Talent Acquisition Team\n",
      "Sentiment scores: {'neg': 0.02, 'neu': 0.729, 'pos': 0.251, 'compound': 0.9774}\n",
      "Positive\n",
      "\n",
      "Thank you for your interest in the Software Engineer position at Advisor360° in Weston, Massachusetts, United States. Unfortunately, we will not be moving forward with your application, but we appreciate your time and interest in Advisor360°.  Best regards, Advisor360°\n",
      "Sentiment scores: {'neg': 0.032, 'neu': 0.607, 'pos': 0.361, 'compound': 0.9538}\n",
      "Positive\n",
      "\n",
      "Thank you for your interest in the iOS Developer UP TO $140K +EQUITY position at Profizi in Jersey City, New Jersey, United States. Unfortunately, we will not be moving forward with your application, but we appreciate your time and interest in Profizi.  Regards,  Profizi\n",
      "Sentiment scores: {'neg': 0.032, 'neu': 0.718, 'pos': 0.25, 'compound': 0.8885}\n",
      "Positive\n",
      "\n",
      "Thank you for your interest in the Software Engineer position at Decentrix Inc. in Denver Metropolitan Area. Unfortunately, we will not be moving forward with your application, but we appreciate your time and interest in Decentrix Inc..  Regards,  Decentrix Inc.\n",
      "Sentiment scores: {'neg': 0.035, 'neu': 0.729, 'pos': 0.235, 'compound': 0.8625}\n",
      "Positive\n",
      "\n",
      "Thank you for applying to the Entry Level Developer position at The Nexxus Group. Unfortunately, The Nexxus Group has moved to the next step in their hiring process, and your application was not selected at this time.\n",
      "Sentiment scores: {'neg': 0.06, 'neu': 0.877, 'pos': 0.063, 'compound': 0.0258}\n",
      "Neutral\n",
      "\n",
      "Hello Seth,  Thank you very much for your interest in our Software Engineer - React/Redux opening. We've had a chance to discuss your background and qualifications with the hiring manager and unfortunately, we have decided to pursue other candidates who appear to match our requirements more closely at this time. Should requirements change on our side or if a similar position opens up, we will not hesitate to contact you.  Thank you again for your time and interest in an employment opportunity with Alteryx, Inc. We wish you the best of luck in your continued search.   Sincerely, Alteryx Talent Acquisition \n",
      "Sentiment scores: {'neg': 0.02, 'neu': 0.701, 'pos': 0.279, 'compound': 0.9818}\n",
      "Positive\n",
      "\n",
      "Thank you for your interest in the Web Developer position at DiversityInc in Woodbridge Township, New Jersey, United States. Unfortunately, we will not be moving forward with your application, but we appreciate your time and interest in DiversityInc. Regards, DiversityInc\n",
      "Sentiment scores: {'neg': 0.035, 'neu': 0.695, 'pos': 0.27, 'compound': 0.8885}\n",
      "Positive\n",
      "\n",
      "Thank you for applying to the Full Stack Developer position at Test Innovators. Unfortunately, Test Innovators has moved to the next step in their hiring process, and your application was not selected at this time.\n",
      "Sentiment scores: {'neg': 0.063, 'neu': 0.871, 'pos': 0.066, 'compound': 0.0258}\n",
      "Neutral\n",
      "\n",
      "Thank you for applying to the Backend Developer position at YinzCam, Inc.. Unfortunately, YinzCam, Inc. has moved to the next step in their hiring process, and your application was not selected at this time.\n",
      "Sentiment scores: {'neg': 0.065, 'neu': 0.867, 'pos': 0.068, 'compound': 0.0258}\n",
      "Neutral\n",
      "\n",
      "Thank you for applying to the JavaScript / Ruby on Rails Developer - Remote / Work from Home position at Tithe.ly. Unfortunately, Tithe.ly has moved to the next step in their hiring process, and your application was not selected at this time.\n",
      "Sentiment scores: {'neg': 0.057, 'neu': 0.883, 'pos': 0.06, 'compound': 0.0258}\n",
      "Neutral\n",
      "\n",
      "eth,  Thanks for your interest in the Mobile Software Developer position at NECS Inc. ( Software for Food Distributors) in Branford, CT. Unfortunately, we will not be moving forward with your application but we appreciate your time and interest in NECS Inc. ( Software for Food Distributors).  Regards, NECS Inc. ( Software for Food Distributors)\n",
      "Sentiment scores: {'neg': 0.028, 'neu': 0.781, 'pos': 0.191, 'compound': 0.8689}\n",
      "Positive\n",
      "\n",
      "Thank you for your interest in the Software Engineer, TikTok iOS position at TikTok in Mountain View, California, United States. Unfortunately, we will not be moving forward with your application, but we appreciate your time and interest in TikTok. Regards, TikTok\n",
      "Sentiment scores: {'neg': 0.034, 'neu': 0.701, 'pos': 0.265, 'compound': 0.8885}\n",
      "Positive\n",
      "\n",
      "Seth,  Thank you for your interest in the Associate Software Engineer role at HPR. Unfortunately, we have decided not to proceed with your candidacy for the current opening.  Thank you again for your time and interest in HPR. We wish you the very best in your endeavors.  Regards, HPR Recruiting\n",
      "Sentiment scores: {'neg': 0.038, 'neu': 0.676, 'pos': 0.286, 'compound': 0.9412}\n",
      "Positive\n",
      "\n",
      "Hi Seth,  Thanks for your interest in Fritz AI. Unfortunately, we are unable to offer you a position at this time. We'll keep your resume on file and reach out if that changes in the future.  Best, Jameson\n",
      "Sentiment scores: {'neg': 0.053, 'neu': 0.702, 'pos': 0.246, 'compound': 0.8316}\n",
      "Positive\n",
      "\n",
      "Unfortunately, SoftSages Technology Inc has decided not to move forward with your Software Developer - entry level application at this time. \n",
      "Sentiment scores: {'neg': 0.112, 'neu': 0.888, 'pos': 0.0, 'compound': -0.34}\n",
      "Negative\n",
      "\n",
      "Unfortunately, PatientsLikeMe, LLC has decided not to move forward with your Full Stack Software Engineer application at this time. \n",
      "Sentiment scores: {'neg': 0.118, 'neu': 0.882, 'pos': 0.0, 'compound': -0.34}\n",
      "Negative\n",
      "\n",
      "Thank you for your interest in changing the world with us. We appreciate the opportunity to learn about your skills and accomplishments. Unfortunately, you were not the most competitive candidate for the Java Developer, Junior role.* Although we can’t offer you this position, we’ll keep your resume on file for a year—if new opportunities come up that fit your skills and experience, we’ll let you know. And please continue to apply to other positions on boozallen.com/careers that inspire and excite you.   —Booz Allen Talent Acquisition Team\n",
      "Sentiment scores: {'neg': 0.039, 'neu': 0.694, 'pos': 0.266, 'compound': 0.9715}\n",
      "Positive\n",
      "\n",
      "Hello Seth,  Thank you for giving us the opportunity to consider you for the position with us at Unity Technologies.    We have carefully reviewed your experience and qualifications for this position, and unfortunately, we have decided not to move forward with your application at this time.   Please keep checking our Careers Page, and LinkedIn Company Page, for other opportunities that may be of interest to you.   We do appreciate your interest in Unity Technologies, and we wish you every success for the future.   Regards,   Unity Technologies Recruiting Team\n",
      "Sentiment scores: {'neg': 0.022, 'neu': 0.706, 'pos': 0.271, 'compound': 0.9744}\n",
      "Positive\n",
      "\n",
      "Thanks for your interest in the Web Designer/Developer Intern/Consultant position at Cannabis Creative Group. We have reviewed your application. Unfortunately, you are not the right fit for the position at this time because we are looking for someone local.  Best of luck in your job search.  Sincerely, CCG Human Resources\n",
      "Sentiment scores: {'neg': 0.069, 'neu': 0.64, 'pos': 0.291, 'compound': 0.9392}\n",
      "Positive\n",
      "\n",
      "Thank you for your interest in joining the DICK'S Sporting Goods, Inc. team. We value candidates like you who are committed to excellence and share our passion for sports. Unfortunately, at this time we have decided to move forward with other candidates for the Software Engineering Internship position at Corporate.     While this wasn’t the best match for you to join our team right now, new opportunities are posted often. We recommend keeping an eye on our career site and applying to future roles that match your experience and skillset. You can also stay-in-the-know about what’s happening here and receive job-alerts that match your interests by joining our Talent Community.     We wish you every success in your career search.     Thank you,  DICK'S Sporting Goods, Inc.\n",
      "Sentiment scores: {'neg': 0.015, 'neu': 0.682, 'pos': 0.302, 'compound': 0.991}\n",
      "Positive\n",
      "\n",
      "Thank you for applying to the WordPress Developer/Web Development Intern position at RevoluSun. Unfortunately, RevoluSun has moved to the next step in their hiring process, and your application was not selected at this time.\n",
      "Sentiment scores: {'neg': 0.065, 'neu': 0.867, 'pos': 0.068, 'compound': 0.0258}\n",
      "Neutral\n",
      "\n",
      "Thank you for your interest in our Developer Internship opening.  We have just recently filled this position, and unfortunately will not be able to move forward with your candidacy at this time.  Should something change on our side (or we get another job opening that matches your background), we will not hesitate to contact you.  Thank you again for your interest in an employment opportunity with Provenir Inc., and we wish you the best in your current job search.  Provenir Human Resources www.provenir.com\n",
      "Sentiment scores: {'neg': 0.024, 'neu': 0.748, 'pos': 0.228, 'compound': 0.959}\n",
      "Positive\n",
      "\n",
      "Thank you for your interest in our UI Software Engineer (open to remote) position.  We were very fortunate to have a strong group of applicants to consider for this role and have recently filled this position. Unfortunately, because this role is no longer available, we will not be moving forward with your application.  New positions open up regularly and we encourage you to visit our careers page and apply to another opening that fits your interests and qualifications.  Thank you again for your interest in New Relic.  Best regards, The New Relic Talent Acquisition Team\n",
      "Sentiment scores: {'neg': 0.04, 'neu': 0.705, 'pos': 0.256, 'compound': 0.9756}\n",
      "Positive\n",
      "\n",
      "Thank you for your interest in Nuts.com and taking the time to apply for the Software Engineer role.   After carefully considering your qualifications, we have decided to pursue other candidates whose experience more closely aligns with the needs of the role.   Although we have not opted to move forward at this time, we encourage you to continue to check our Career page for future opportunities.  Thanks again for your interest in our company and we wish you the best of luck in your future endeavors.   Warm Regards,   The Nuts.com Talent Acquisition Team\n",
      "Sentiment scores: {'neg': 0.0, 'neu': 0.705, 'pos': 0.295, 'compound': 0.984}\n",
      "Positive\n",
      "\n",
      "Unfortunately, we have decided not to proceed with your candidacy for the current opening at DriveWealth.  We received many qualified applicants and have decided to move ahead with another candidate who we feel is a better match for this particular position. We will continue to grow and our needs are constantly changing. Please feel free to watch our job openings at DriveWealth Careers and follow us on LinkedIn for future opportunities.  Thanks again for your interest in DriveWealth and we wish you luck in your search.  Regards, DriveWealth\n",
      "Sentiment scores: {'neg': 0.023, 'neu': 0.757, 'pos': 0.22, 'compound': 0.9601}\n",
      "Positive\n",
      "\n",
      "Thank you for your interest in working with DPR Construction! After further review of your application, you will not be moving forward in the recruiting process for Software Developer . To apply to other opportunities, please make sure to visit our website at www.dpr.com/company/careers.  DPR Talent Acquisition \n",
      "Sentiment scores: {'neg': 0.0, 'neu': 0.717, 'pos': 0.283, 'compound': 0.9299}\n",
      "Positive\n",
      "\n",
      "Hi Seth Thank you for taking the time to apply to the role of Software Engineer with VMware.  Unfortunately, it has been decided that this role will not be moving ahead.  We will, however, keep your resume on record and get in touch with you about future opportunities that may arise.  We wish you all the best in your job search and hope we will have the chance to consider you for another role in the future.  Sincerely,  VMware Human Resources \n",
      "Sentiment scores: {'neg': 0.025, 'neu': 0.765, 'pos': 0.21, 'compound': 0.9485}\n",
      "Positive\n",
      "\n",
      "Hi Seth,  Thanks so much for your interest in Software Engineer I-211299 with Cox Automotive.  Unfortunately, you haven't been selected to move forward with the next phase of the process.   We truly appreciate your interest in joining the Cox family of brands and encourage you to join our talent community to get notified of new roles that open up that may pique your interest.   Best wishes to you as you take the next steps of your career journey.\n",
      "Sentiment scores: {'neg': 0.045, 'neu': 0.643, 'pos': 0.313, 'compound': 0.9779}\n",
      "Positive\n",
      "\n",
      "Thank you very much for your interest in a career at Intel! We have received your direct submission or referral for the following position:  Position: Software Engineer Job Number: JR0148336 Application Date: 2020 Nov 09  There were several applications submitted for this position, and after careful review, unfortunately, we have decided to pursue a different candidate whose experience and skills more closely meet the needs of this particular role.  Competition for jobs at Intel is always strong and we often have to make difficult choices between many high-caliber candidates. Now that we have your information in our database, we will definitely reach out again with future openings for which you qualify.  We hope you will keep us in mind, too, and apply again in the future. Thank you very much for considering a career at Intel. We know there are lots of companies out there to choose from and we greatly appreciate your interest.  Kind regards, Intel Talent Acquisition team\n",
      "Sentiment scores: {'neg': 0.027, 'neu': 0.788, 'pos': 0.185, 'compound': 0.9763}\n",
      "Positive\n",
      "\n",
      "Thank you again for your interest in BluJay Solutions. We appreciated the chance to review your coding but unfortunately we have decided to move forward with other candidates.   As far as feedback, continue to work on the fundamentals of object oriented programing (inheritance, enums, abstraction) or object oriented concepts to reduce duplicate coding. We like to see files instead of long strings or having all the logic in the main. For exercise 2, the Semi should be extended into the code with the SUV as well. Please note this is general feedback and you may have done some of these but the candidates that showed most/all of these things are the candidates we moved forward with.    Best of luck in your search,\n",
      "Sentiment scores: {'neg': 0.022, 'neu': 0.784, 'pos': 0.194, 'compound': 0.9694}\n",
      "Positive\n",
      "\n",
      "Thank you for your interest in the Software Engineer, Staff position. While you have many positive attributes, unfortunately you have not been chosen for further consideration. We hope that you’ll consider other opportunities with Fiserv. Please visit our career page at https://www.careers.fiserv.com/ to see the latest openings and join our Talent Network. Thank you for your interest in Fiserv, and best wishes for a successful career search.  The Fiserv Recruiting Team \n",
      "Sentiment scores: {'neg': 0.025, 'neu': 0.587, 'pos': 0.388, 'compound': 0.9856}\n",
      "Positive\n",
      "\n",
      "Unfortunately, Vensit has decided not to move forward with your Junior Python Developer(Only W2 roles) application at this time. \n",
      "Sentiment scores: {'neg': 0.118, 'neu': 0.882, 'pos': 0.0, 'compound': -0.34}\n",
      "Negative\n",
      "\n",
      "Thank you for your recent application for the opening at HomeAdvisor & Angie's List. Unfortunately, we have decided not to proceed with your candidacy at this time. We received many qualified applicants and have decided to move ahead with another candidate who we feel is a better match for this particular position.  Thanks again for your interest in HomeAdvisor & Angie's List; please check out our Careers page to see if another role might be a more suitable search now or in the future.  Regards, \n",
      "Sentiment scores: {'neg': 0.026, 'neu': 0.824, 'pos': 0.149, 'compound': 0.8807}\n",
      "Positive\n",
      "\n",
      "First and foremost, we’d like to thank you for your interest in Cogo and the Quantitative Data Analyst role. We know how stressful and time consuming the job application process can be, and we’re so appreciative that you took the time to speak to us and our team. Unfortunately, timing is everything, and we are putting this position on hold while we reevaluate our needs.   We’d love to stay connected as we continue to grow our team. We strongly encourage you to keep an eye on our careers site and follow us on social media to get the inside scoop on what’s happening at Cogo. You can find us on LinkedIn, Instagram, and Twitter.   While we know that emails like this are disappointing to read, we don’t want them to be! We look forward to staying connected and encourage you to check back with us in the future for new opportunities to join our team.   Wishing you all the best,  The Cogo Recruiting Team \n",
      "Sentiment scores: {'neg': 0.045, 'neu': 0.741, 'pos': 0.214, 'compound': 0.9837}\n",
      "Positive\n",
      "\n",
      "Dear Seth,  Thank you for your recent inquiry into employment opportunities with the TJX.  Our Recruiters have reviewed your resume and unfortunately at this time we are not able to offer you further consideration for the position of Software Engineer - New Grads (January 2021). Please feel free to review our open positions at http://www.jobs.tjx.com for future openings that you may have interest in.  Thank you again for giving us the opportunity to consider you for employment and please accept our best wishes for success in your job search.  Sincerely,  The TJX Companies, Inc. Global Talent Acquisition Team\n",
      "Sentiment scores: {'neg': 0.019, 'neu': 0.631, 'pos': 0.35, 'compound': 0.9898}\n",
      "Positive\n",
      "\n",
      "Thank you for applying for the Entry Level Software Developer  position at General Motors! We appreciate your interest in joining our team.  Unfortunately, for this role, we will not be moving forward with your application as other candidates were considered a better fit for the job.  Please note that this decision only applies to the  Entry Level Software Developer  position so if you have submitted other applications for other GM roles, you will be notified separately about next steps for those positions.  GM frequently posts new opportunities, so we encourage you to check our website often to explore new job postings that might interest you.  Thank you again for applying. We wish you all the best with your job search!  Sincerely,  \n",
      "Sentiment scores: {'neg': 0.016, 'neu': 0.723, 'pos': 0.26, 'compound': 0.987}\n",
      "Positive\n",
      "\n",
      "Thank you for your recent inquiry into employment opportunities with the TJX.  Our Recruiters have reviewed your resume and unfortunately at this time we are not able to offer you further consideration for the position of Software Engineer Intern. Please feel free to review our open positions at http://www.jobs.tjx.com for future openings that you may have interest in.  Thank you again for giving us the opportunity to consider you for employment and please accept our best wishes for success in your job search.  Sincerely,  The TJX Companies, Inc. Global Talent Acquisition Team\n",
      "Sentiment scores: {'neg': 0.02, 'neu': 0.633, 'pos': 0.347, 'compound': 0.9885}\n",
      "Positive\n",
      "\n",
      "Thank you for applying to Ribbon! We receive applications from qualified candidates daily and are flattered that you would consider a career here. While our team was impressed by your background, we unfortunately don't see a strong mutual fit at this time for the role.   We appreciate you taking the time to learn more about Ribbon and encourage you to continue visiting our Careers page, as we will be adding new roles on a regular basis that may be a better fit.   All the best for your future!\n",
      "Sentiment scores: {'neg': 0.049, 'neu': 0.695, 'pos': 0.256, 'compound': 0.9673}\n",
      "Positive\n",
      "\n",
      "Thank you for your interest in Travelers. It was our pleasure to review your qualifications for our Associate Software Engineer (Java), R-1681. Unfortunately, we are not able to offer you employment with Travelers at this time.  We appreciate the time you took to explore our career opportunities and learn about Travelers. Please continue to visit our Careers Site to view our most current job openings. You may also login to the Candidate Home to review your other job submissions, or to edit your profile. We wish you the best of luck in your career search.  Sincerely, Travelers Talent Acquisition Team \n",
      "Sentiment scores: {'neg': 0.02, 'neu': 0.715, 'pos': 0.265, 'compound': 0.9821}\n",
      "Positive\n",
      "\n",
      "Thank you for your interest in TomTom. We appreciate the time that you took to apply for our Software Engineering Intern position.  Unfortunately, however, after careful review of your profile we decided not to proceed further with your application. Note that if you’ve applied for multiple positions, we’re reviewing your other application(s) and will reply separately.  We encourage you to stay on top of our latest job opportunities via our career website (tomtom.com/careers).  If you have any questions or concerns, feel free to contact us at recruitment@tomtom.com.  Thanks again. We wish you the best in your continued job search and career.  TomTom Recruitment Team \n",
      "Sentiment scores: {'neg': 0.019, 'neu': 0.736, 'pos': 0.245, 'compound': 0.9781}\n",
      "Positive\n",
      "\n",
      "Thanks so much for your interest in Software Engineer I, Advertising-202000592 with Cox Automotive.  Unfortunately, you haven't been selected to move forward with the next phase of the process.   We truly appreciate your interest in joining the Cox family of brands and encourage you to join our talent community to get notified of new roles that open up that may pique your interest.   Best wishes to you as you take the next steps of your career journey.\n",
      "Sentiment scores: {'neg': 0.045, 'neu': 0.639, 'pos': 0.316, 'compound': 0.9779}\n",
      "Positive\n",
      "\n",
      "Unfortunately, we have decided not to proceed with your candidacy for the current opening at InterSystems.  We received many qualified applicants and have decided to move ahead with another candidate who we feel is a better match for this particular position.  Thanks again for your interest in InterSystems and we wish you luck in your search.  Regards, InterSystems\n",
      "Sentiment scores: {'neg': 0.035, 'neu': 0.751, 'pos': 0.214, 'compound': 0.9022}\n",
      "Positive\n",
      "\n",
      "Thank you for your interest in BAE Systems. We place a great emphasis on matching a candidate’s background and experience with available opportunities, and are continually impressed by the caliber of today’s candidates. We regret to inform you that you were not selected for the following position:  Entry Level Software Engineer - Engineering Leadership Development Program I - Defense, 65480BR.  Please log into your candidate portal at jobs.baesystems.com to check on the status of any other positions for which you applied. You can also connect with us on LinkedIn to see current openings  Thank you again for your interest in BAE Systems, and we wish you success in your professional endeavors.  Kind regards,\n",
      "Sentiment scores: {'neg': 0.021, 'neu': 0.719, 'pos': 0.26, 'compound': 0.9828}\n",
      "Positive\n",
      "\n",
      "Thank you for your submission for the position of New College Graduate: Software Engineer I, Req ID 169410BR.  We regret to inform you that you were not selected for this position. We appreciate your desire to expand your career with Raytheon Technologies and encourage you to investigate other job positings with Raytheon Technologies and apply to any that are commensurate with your background and experience.  Please check your Job Submission status via the Job Center and navigate to the Candidate Zone to get the most updated status of other Raytheon Technologies opportunities to which you have applied.  Again, thank you for your interest in Raytheon Technologies.  Sincerely,  Raytheon Technologies Talent Acquisition MA - Marlborough\n",
      "Sentiment scores: {'neg': 0.021, 'neu': 0.756, 'pos': 0.223, 'compound': 0.975}\n",
      "Positive\n",
      "\n",
      "Thank you for your interest in joining the Jelli team. We wanted to let you know that although your resume and cover letter were very competitive, our hiring team reviewed your application and did not select it for further consideration.  We wish you all the best in your job search.  Best regards,  Jelli, Inc.\n",
      "Sentiment scores: {'neg': 0.0, 'neu': 0.721, 'pos': 0.279, 'compound': 0.9558}\n",
      "Positive\n",
      "\n",
      "Hope you are doing well.  We regret to inform you that the position you applied for has been filled by another candidate. We will retain your resume and if a position opens that closely matches your skill set, we will contact you at that time. Thanks again for your interest in employment at IAM Robotics.  Sincerely, \n",
      "Sentiment scores: {'neg': 0.043, 'neu': 0.745, 'pos': 0.213, 'compound': 0.8807}\n",
      "Positive\n",
      "\n",
      "Thank you for applying for the Entry Level Software Developer  position at General Motors! We appreciate your interest in joining our team.  Unfortunately, for this role, we will not be moving forward with your application as other candidates were considered a better fit for the job.  Please note that this decision only applies to the  Entry Level Software Developer  position so if you have submitted other applications for other GM roles, you will be notified separately about next steps for those positions.  GM frequently posts new opportunities, so we encourage you to check our website often to explore new job postings that might interest you.  Thank you again for applying. We wish you all the best with your job search!  Sincerely,   GM Global Talent Acquisition Team \n",
      "Sentiment scores: {'neg': 0.016, 'neu': 0.717, 'pos': 0.267, 'compound': 0.9887}\n",
      "Positive\n",
      "\n",
      "Thank you for your interest in the 2020-45452  Software Engineer  position with General Dynamics Mission Systems.  Although you were not selected for this specific requisition, we highly encourage you to apply for other opportunities. Please continue to review upcoming opportunities through our career sites.\n",
      "Sentiment scores: {'neg': 0.0, 'neu': 0.664, 'pos': 0.336, 'compound': 0.9493}\n",
      "Positive\n",
      "\n",
      "Thank you for your interest in the SOFTWARE ENGINEER position at Gates! We appreciate you taking the time, interest, and effort to explore open opportunities with our company.  Although your qualifications are impressive,   we were fortunate to have a number of applicants prior to you applying and have extend an offer out to a candidate.     While this role did not work out, your strengths and skills may be suited to other opportunities with Gates. We would love to reach out with future positions that align with your background and hope that you will keep in touch with us by visiting our careers website.     We wish you all the best with your professional endeavors and hope to connect again soon!\n",
      "Sentiment scores: {'neg': 0.0, 'neu': 0.681, 'pos': 0.319, 'compound': 0.9917}\n",
      "Positive\n",
      "\n",
      "Thank you for your interest in UPS and the \"Software Developer I\" position. While you were not selected for this position, we invite you to revisit the UPS careers site at any time to explore other positions fit with your experience, education, and career development aspirations.  This invitation is part of our commitment to help you find your #Future You.  Sincerely,  The UPS Recruiting Team.\n",
      "Sentiment scores: {'neg': 0.0, 'neu': 0.763, 'pos': 0.237, 'compound': 0.9432}\n",
      "Positive\n",
      "\n",
      "Thank you for applying for the position of 01406712 Associate Software Engineer (New Grad) (Open) Associate Software Engineer (New Grad) . We have reviewed your skills, qualifications and experience; however, you were not selected to move forward in our hiring process at this time. We appreciate your interest and encourage you to visit https://jobs.rtx.com/ again to apply to any of our current openings.  Regards,\n",
      "Sentiment scores: {'neg': 0.0, 'neu': 0.837, 'pos': 0.163, 'compound': 0.8885}\n",
      "Positive\n",
      "\n",
      "Thank you for your interest in The Allen Institute for AI and for the time that you took to apply to Frontend Software Engineer. We received many applications from qualified candidates. We want to let you know that we are not moving forward with your candidacy at this time for Frontend Software Engineer.   We want to acknowledge the time you took to apply and let you know that we are truly grateful.  Please keep an eye on our careers page and feel free to apply to future roles suited to your skill set.   We also encourage you to check out our AI2 Startup Incubator (incubator.allenai.org). If you have ever thought about launching your own startup, we can help you become a co-founder of the next great AI-first company!  Thank you,  AI2 Recruiting \n",
      "Sentiment scores: {'neg': 0.0, 'neu': 0.786, 'pos': 0.214, 'compound': 0.9826}\n",
      "Positive\n",
      "\n"
     ]
    },
    {
     "name": "stderr",
     "output_type": "stream",
     "text": [
      "[nltk_data] Downloading package vader_lexicon to\n",
      "[nltk_data]     C:\\Users\\kiera\\AppData\\Roaming\\nltk_data...\n",
      "[nltk_data]   Package vader_lexicon is already up-to-date!\n"
     ]
    }
   ],
   "source": [
    "import nltk\n",
    "from nltk.sentiment import SentimentIntensityAnalyzer\n",
    "\n",
    "nltk.download('vader_lexicon')\n",
    "\n",
    "sentimentanalyser = SentimentIntensityAnalyzer()\n",
    "\n",
    "reject_emails = df[df['Status'] == 'reject']\n",
    "\n",
    "for email_text in reject_emails['Email']:\n",
    "    sentiment_data = sentimentanalyser.polarity_scores(email_text)\n",
    "    print(email_text)\n",
    "    print(f\"Sentiment scores: {sentiment_data}\")\n",
    "\n",
    "    # Determine the overall sentiment\n",
    "    if sentiment_data['compound'] >= 0.05:\n",
    "        print(\"Positive\")\n",
    "    elif sentiment_data['compound'] <= -0.05:\n",
    "        print(\"Negative\")\n",
    "    else:\n",
    "        print(\"Neutral\")\n",
    "    print()\n"
   ]
  },
  {
   "cell_type": "code",
   "execution_count": 46,
   "metadata": {},
   "outputs": [
    {
     "name": "stdout",
     "output_type": "stream",
     "text": [
      "Seth Polyniak,  As part of your application to Entry Level Back End Developer: 2021, we recently invited you to complete our Coding Assessment.  We wanted to let you know that your responses have been received and are being considered, along with other information from your application process, to determine next steps. These next steps may include being invited to complete another assessment or invitation to an interview.  Please note that if you did not just complete an assessment, this means that your responses were returned from a prior application to IBM and completion of the same assessment. As your assessment responses remain valid for 12 months, there is no need to retake this assessment at this time.  IBM Assessment Team\n",
      "Sentiment scores: {'neg': 0.018, 'neu': 0.963, 'pos': 0.019, 'compound': 0.0258}\n",
      "Neutral\n",
      "\n",
      "Hello Seth,  Thank you for expressing interest in iCIMS, a high-growth recruitment software solutions provider! After reviewing your resume, we feel that your background and qualifications may align to an available opportunity we have for a Software Engineer I. That being said, I would like to take some time to connect with you by phone and review the next steps in the recruitment process!     Please reply to Sarah.Bradley@icims.com  and provide me with your availability over the next few days for a phone call, as well as the best number to reach you on. The call should take roughly 15 minutes.     Should you have any questions about this process, please feel free to reach out. Thank you, and I look forward to speaking with you!     Regards,\n",
      "Sentiment scores: {'neg': 0.0, 'neu': 0.759, 'pos': 0.241, 'compound': 0.981}\n",
      "Positive\n",
      "\n",
      "Hello,  You’ve replied to an inbox that is not actively monitored. If you have a question about your job search, please visit our Candidate Help Center.  “Phil” is simply a representation of the people and technology working hard at ZipRecruiter to help you find your next job. An email or text from Phil is just our way of alerting you about new job opportunities, and keeping you up-to-date on the progress of your search.     Sincerely,  The ZipRecruiter Team\n",
      "Sentiment scores: {'neg': 0.038, 'neu': 0.777, 'pos': 0.185, 'compound': 0.9159}\n",
      "Positive\n",
      "\n",
      "Does this match? If not, can you update your profile? Right now, it looks like we are search for Computer Software Engineer in Denville, NJ, 07834. Before I forget... If you haven't already done so, please add your resume to your profile. Not only will you be able to apply to jobs quickly, but we turn the job market on its head and now employers can find you as well. It's easy. Upload your Resume, Build a new one, or just email it to me directly. When you post a resume, we will automatically share your resume with more than 90 job sites and employers like Monster, Careerbuilder, Ziprecruiter & more. If you want to keep your resume only with Upward, update your privacy settings. \n",
      "Sentiment scores: {'neg': 0.0, 'neu': 0.86, 'pos': 0.14, 'compound': 0.9477}\n",
      "Positive\n",
      "\n",
      "Greetings, My name is Manju and I'm an IT recruiter at  SynergisticIT.   SynergisticIT is a full service staffing and placement firm servicing client in America for the past 10 years. We are dedicated towards fulfilling the IT needs of our clients. From staffing to full implementation of projects we provide the highest quality IT Services. We do provide Java and Phyton Training to candidates, who we think would fit a job requirement with one of our clients.  Who should apply: Candidates who have difficulty finding jobs even after completing their bachelors and masters. Candidates who are working on redundant technologies and want to become relevant again to boost their growth. Candidates who want to enhance their skill portfolio . Candidate who are open to invest 3-4 months in learning about Java and then have a job in the Fortune 500 Companies. *After training you will get an opportunity to work with companies like Apple, Google, Wells Fargo, Bank of America, PayPal, eBay etc.*  Required Qualifications :      Bachelors or Masters in Computer Science/MIS/IT/Mathematics.  Skills Required :      Basic knowledge of C, C++,Core Java.  Benefit's of working with our clients:      E-Verified.     Filing of H1b and Green Card.     On Job Technical Support.     Certifications on Advance java** \n",
      "Sentiment scores: {'neg': 0.011, 'neu': 0.865, 'pos': 0.123, 'compound': 0.9628}\n",
      "Positive\n",
      "\n",
      "ello Seth,  Just one more step before you get started.  You must confirm your identity using the one-time pass code Note : This code will expire in 10 minutes.  Sincerely,  UST US Recruiting Team.\n",
      "Sentiment scores: {'neg': 0.0, 'neu': 0.912, 'pos': 0.088, 'compound': 0.4767}\n",
      "Positive\n",
      "\n",
      "Dear Seth Polyniak,  Thank you for submitting your application for the position of Junior Software Engineer. We just wanted to let you know that your application has reached us safely.  We're currently reviewing and evaluating your application. We'd like to thank you for your interest in career opportunities at Swiss Re.  Kind regards, Swiss Re Recruiting Team\n",
      "Sentiment scores: {'neg': 0.0, 'neu': 0.669, 'pos': 0.331, 'compound': 0.967}\n",
      "Positive\n",
      "\n",
      "Thank you for your interest in Scribd! We have received your application for the Software Engineer role, and are delighted that you would consider joining our team!  This email may be an automated reply, but don't think that your resume went into a black box.  All applications are reviewed by an actual human.  If this position, or something similar appears to be a strong fit you will be hearing from us soon!  Best, The Scribd Team\n",
      "Sentiment scores: {'neg': 0.0, 'neu': 0.77, 'pos': 0.23, 'compound': 0.9651}\n",
      "Positive\n",
      "\n",
      " Hope you are doing great!!!         I belong to Talent Acquisition Team of TATA Consultancy Services (TCS) one of the world's leading information technology companies for the North America geography. I have come across your profile through portal and would like to discuss with you regarding opportunities. Please have a look at the job description and let me know your interest and send me your updated resume.  \n",
      "Sentiment scores: {'neg': 0.0, 'neu': 0.727, 'pos': 0.273, 'compound': 0.9642}\n",
      "Positive\n",
      "\n",
      "Thank you for your interest in CACI and recent application to the following position(s):    • 245978 Junior Embedded Software Engineer  Our CACI Talent Acquisition team is still in process of reviewing your application, and a recruiter will contact you if you are determined to be a potential match for the position.  To check the status of your application, visit Workday and log in to your account by selecting \"Sign In\" in the top right corner. Once logged in, you can view this and any other applications by clicking the cloud icon in the top right corner and navigating to \"View Profile.\"  Best regards,\n",
      "Sentiment scores: {'neg': 0.0, 'neu': 0.834, 'pos': 0.166, 'compound': 0.9477}\n",
      "Positive\n",
      "\n",
      "Thanks for applying to Nuts.com! Your application has been received and will be reviewed shortly. We will reach out to you upon completion of our review.  Warm regards,  The Talent Acquisition Team Nuts.com\n",
      "Sentiment scores: {'neg': 0.0, 'neu': 0.763, 'pos': 0.237, 'compound': 0.7901}\n",
      "Positive\n",
      "\n",
      "My name is Stein and I'm an IT recruiter at Mondo, a premier Digital Marketing and IT resourcing agency. For over 15 years, the world’s most prestigious companies have turned to us to provide their IT and digital marketing departments with the most critical resource: people. Our expertise in the industry allows us to match major companies with top talent, and I have a role that could be a great match for you!  Please review the job description below and let me know what you think. Is this a role you’re interested in hearing more about?  If so, send me your most up to date resume in a Word document and let me know a good time to give you a call.   Title: Software Engineer Type: 6+ month C2H Start Date: ASAP Location: Remote Budget: Discussed upon submission\n",
      "Sentiment scores: {'neg': 0.018, 'neu': 0.863, 'pos': 0.119, 'compound': 0.9231}\n",
      "Positive\n",
      "\n",
      "Thank you for your interest in OSIsoft. Your resume is currently being reviewed. If your background matches any of our current job openings, we will contact you via email. In the event that none of our openings are appropriate, we will retain your resume and notify you when a suitable position is available.  We sincerely appreciate your interest in OSIsoft!  Regards,  OSIsoft Human Resources Start your career at OSIsoft today! \n",
      "Sentiment scores: {'neg': 0.0, 'neu': 0.811, 'pos': 0.189, 'compound': 0.9311}\n",
      "Positive\n",
      "\n",
      "Thank you for your interest in HIMSS. We are very excited that you have decided to explore opportunites to become a Changemaker.     The Talent Acquistion Team will review your application for Software Engineer  and will be in touch with next steps.     In the meantime please check out our website www.himss.org for more information about our organization.     Will you join us to create what’s next for health? Learn more about what your journey could look like as a Changemaker by clicking here!     Thanks,     HIMSS Talent Acquisition Team     This is an automated email response. Please do not reply.\n",
      "Sentiment scores: {'neg': 0.0, 'neu': 0.745, 'pos': 0.255, 'compound': 0.9761}\n",
      "Positive\n",
      "\n",
      "Seth,  Thank you, again, for submitting your application to Cognizant.  We want to remind you that in order for your application to be considered, you’ll need to complete 2 quick steps as soon as possible. These steps should take no more than 5 minutes.      Review your candidate information sheet (see below link).     Ensure you answer the additional questions at the bottom of the form.   Click Here  After you select the green submit button, our hiring team will review your application. Qualified applicants can expect to receive an email from the Cognizant Campus Recruitment Team with next steps in the process.  Thank you!  US Campus Recruitment Team\n",
      "Sentiment scores: {'neg': 0.02, 'neu': 0.897, 'pos': 0.083, 'compound': 0.7177}\n",
      "Positive\n",
      "\n",
      "Thank you for applying to the Frontend Software Engineer position at The Allen Institute for AI. We appreciate your interest in our mission to contribute to humanity through high-impact artificial intelligence research and engineering!  Our team will be reviewing your application and will be in touch if your qualifications and experience match our needs for this role. If you are not selected, please feel free to check our Careers page, https://allenai.org/jobs/, as we add new openings often.   In the meantime, you can stay up to date on the latest happenings at AI2 by signing up to receive our newsletters, at https://allenai.org/newsletters/index.html. You can also take a deeper dive into some of our team members and our work, by checking out our blog, at https://medium.com/ai2-blog!   Best of Luck,  The Allen Institute for AI\n",
      "Sentiment scores: {'neg': 0.013, 'neu': 0.835, 'pos': 0.152, 'compound': 0.9658}\n",
      "Positive\n",
      "\n",
      " Thanks for applying to one of our open positions. One of our professional recruiters has received your credentials and will be considering you for the position. In addition to this role, we have thousands of other current openings; I encourage you to browse and apply for opportunities that may also be a good fit for you.  Job ID: 699335 Position Title: Full Stack Web developer Location: Dedham, MA  At The Judge Group, we consult, train, staff, and solve problems. Through our work, we make people and organizations better. Thanks again for trusting us and connecting with us. \n",
      "Sentiment scores: {'neg': 0.024, 'neu': 0.758, 'pos': 0.218, 'compound': 0.9628}\n",
      "Positive\n",
      "\n",
      "An account has been created for you on our company career site. You can access our site using your personal login information:\n",
      "Sentiment scores: {'neg': 0.0, 'neu': 0.913, 'pos': 0.087, 'compound': 0.25}\n",
      "Positive\n",
      "\n",
      "Get better sleep. Eat veggies regularly. Read more books. Practice mindfulness. As you navigate through some of your newly brainstormed resolutions, you might also find yourself setting goals around your career.     If you are ready to be a part of something bigger, consider joining BD! We believe our experiences make a world of difference, and we attribute our success to the collective efforts of our associates around the globe. \n",
      "Sentiment scores: {'neg': 0.0, 'neu': 0.872, 'pos': 0.128, 'compound': 0.8553}\n",
      "Positive\n",
      "\n",
      "hank you for your interest in careers at mpowerss.com. Your email was received and is now being reviewed by our staff.  If you require immediate assistance, please feel free to call mPower Software Services at 215-497-9730 or visit www.mpowerss.com/locations to contact the office closest to you. \n",
      "Sentiment scores: {'neg': 0.0, 'neu': 0.833, 'pos': 0.167, 'compound': 0.8225}\n",
      "Positive\n",
      "\n",
      "My name is Pawan Jaiswal and I'm a Recruiter at Ampcus an Consulting and Staffing company. I am contacting you because you are an experienced professional who appears to be interested in investigating the current job market and job opportunities. We currently have an opportunity with one of our direct clients that you might be interested in.  Title: Software Development Engineer III- Location: Alpharetta, GA     Job Ref ID: 21-01951 Rate: $65/hr on W2  Job Description:  Mobile Application Developer - Digital Channels   Developer – General The Professional Services (PS) team is responsible for the delivery of digital online and mobile banking solutions to our financial institution clients. As a Senior Software Developer in the PS organization, you will be expected to contribute to all aspects of project delivery with specific focus on the development of enhancements and extension to our products.   Responsibilities: o Complete all assignments by the requested due date. Any exceptions to the due date should be approved by the Project Technical Lead in advance. o Accurately update TFS (or similar tool) for all Tasks / Bugs / PBI’s with correct Status and Time entries. o Discuss with the Project Technical Lead/Project Manager any concerns or questions about tasks or other project-related expectations. o Identify / Resolve / Escalate any issues impeding success with the Project Technical Lead/Project Manager and if required to Line Manager. o Ensure the completed work are aligned with the feature requirements as documented in the specification documents, with minimal rework required.    Skills/Experience: 3rd party multi-system integration experience 5+ years hands-on software development experience designing, writing, debugging and testing object oriented code, of which: 3+ years working on e-Commerce or e-Finance applications 2+ years working on high volume transactional systems An advanced understanding of common computer programming algorithms. An advanced understanding of object orientated design principals. A solid understanding of software development patterns and their application in several programming languages. An advanced understanding of coding techniques which contribute to the reliability, maintainability, readability, simplicity, performance, and testability of software. A solid understanding of IT environments including networking, server technologies, databases, security and performance. Bachelor’s degree or Tertiary qualification in Information Technology or Computer Sciences or similar. Experienced in the day-to-day practicalities of Software Development Lifecycles such as Scrum, Waterfall or the Rational Unified Process.\n",
      "Sentiment scores: {'neg': 0.0, 'neu': 0.888, 'pos': 0.112, 'compound': 0.9886}\n",
      "Positive\n",
      "\n",
      "Thank you for your interest in WorkWave! We wanted to let you know we received your application for Software Engineer, and we are delighted that you would consider joining our team.  Our team will review your application and will be in touch if your qualifications match our needs for the role. If you are not selected for this position, keep an eye on our jobs page as we're growing and adding openings.  Best, The WorkWave Team\n",
      "Sentiment scores: {'neg': 0.0, 'neu': 0.826, 'pos': 0.174, 'compound': 0.9324}\n",
      "Positive\n",
      "\n",
      "Great news! We've received your application for the Software Engineer 2020-56835 position. We could not be more excited that you are considering HERE Technologies as your destination and sincerely respect the time it took you to apply.  Although this is an automated response, we will carefully review your resume and qualifications as they relate to the role(s) you applied for. While sometimes we can find ourselves buried in resumes, you will receive an update from a real person within a week. After all, we've all been in the position of waiting to hear back from someone.\n",
      "Sentiment scores: {'neg': 0.022, 'neu': 0.861, 'pos': 0.117, 'compound': 0.8702}\n",
      "Positive\n",
      "\n",
      "Thank you for your interest in Paylocity! We have received your application for the Software Engineer role, and are delighted that you would consider joining our team.   We will review your application and will be in touch if your qualifications match our needs for the role. If you are not selected for this position, keep an eye on our jobs page as we're growing and adding openings.   Kind Regards,\n",
      "Sentiment scores: {'neg': 0.0, 'neu': 0.818, 'pos': 0.182, 'compound': 0.9215}\n",
      "Positive\n",
      "\n",
      " Jobs posted on 100+ job boards  Jr Software Engineer jobs Software Developer - Android Apps  Esri | Portland, ME  Posted 4 days ago on MyJobHelper Senior Software Engineer (.Net)  Garmin | Yarmouth, ME  Posted 3 days ago on the Internet Scientific Software Engineer • New  Northeastern University | Portland, ME  Posted 22 hours ago on the Internet Software Engineer 2 (.NET) (Engineering)  Garmin International | Yarmouth, ME  Posted 3 weeks ago on Upward.net Full-Stack Web Developer  Syrinx | Portland, ME  Posted 3 days ago on the Internet Senior Software Engineer - Medical Records Management (.NET) • New  Humana | Portland, ME  Posted 22 hours ago on CMP API Software Engineer Intern  Asurion | Portland, ME  Posted 2 days ago on Jobcase Front End Web Developer - Virtual Career Fair (Yarmouth,ME)  National Security Agency | Yarmouth, ME  Posted 2 days ago on Jobcase Principal Software Engineer  Vitera Healthcare Solutions LLC | Naples, ME  Posted 1 month ago on JobLeads Systems Software Engineering Intern - Vertica (US - REMOTE)  Micro Focus | Portland, ME  Posted 1 week ago on MyJobHelper Senior Front-end and Data Visualization Engineer • New  Northeastern University | Portland, ME  Posted 22 hours ago on the Internet \n",
      "Sentiment scores: {'neg': 0.0, 'neu': 0.963, 'pos': 0.037, 'compound': 0.6597}\n",
      "Positive\n",
      "\n",
      "Your passcode for account verification is 363325  Enter this passcode on the Career Opportunities Create Account page to verify your account.  This passcode is valid for 10 minutes. \n",
      "Sentiment scores: {'neg': 0.0, 'neu': 0.847, 'pos': 0.153, 'compound': 0.5719}\n",
      "Positive\n",
      "\n",
      " Dear Experteer Member,  We have found new positions for your saved search.  2 \t  positions for Software Engineer positions \tTechnical Lead Denver, CO \t$ 100,000+ \tFull-Stack Developer (Java based) Denver, CO \t$ 100,000+ \n",
      "Sentiment scores: {'neg': 0.0, 'neu': 0.833, 'pos': 0.167, 'compound': 0.6597}\n",
      "Positive\n",
      "\n",
      " Hello,  Are you thinking about asking for a raise? Use our Salary Calculator to know how much you should ask for!  Best regards, Sam - Hiring Specialist neuvoo \n",
      "Sentiment scores: {'neg': 0.0, 'neu': 0.848, 'pos': 0.152, 'compound': 0.6696}\n",
      "Positive\n",
      "\n",
      "I have a job that I think lines up well with your resume. It's new, so they don't have many candidates yet. Check out the description and hit \"View Details\" if you like what you see.  Entry Level Software Engineer - Revature - Jersey City, NJ Revature is looking to hire Entry Level Software Engineers We will provide you with the training and skills needed to succeed. With a wide range of Fortune 500 and government clients, through an...... View Details \n",
      "Sentiment scores: {'neg': 0.0, 'neu': 0.902, 'pos': 0.098, 'compound': 0.7783}\n",
      "Positive\n",
      "\n",
      "Junior Software Developer- INTERN Wakefield, Ma, United States SDL Junior Java Developer Boston, Ma, United States Eliassen Group Software Developer Boston, Ma, United States Modis Software Developer Boston, Ma, United States BlueVoyant \n",
      "Sentiment scores: {'neg': 0.0, 'neu': 0.714, 'pos': 0.286, 'compound': 0.8807}\n",
      "Positive\n",
      "\n",
      "We have received your application for the position of  Application Software Developer - AFHC-10178.  Your resume and screening answers will be carefully reviewed.  If your experience and skills match the requirements of this position, we will contact you with the next stage in our hiring process.   Thank you for your interest in employment at ASRC Federal Holding Company.   Regards, Talent Acquisition\n",
      "Sentiment scores: {'neg': 0.0, 'neu': 0.851, 'pos': 0.149, 'compound': 0.8316}\n",
      "Positive\n",
      "\n",
      "Thank you for setting up your credit card payment. If you pay between 8 PM ET and 11:59 PM ET, we’ll credit your account for the date you chose, but you might not see it for 1-2 days.  If you pay after 8 PM ET on your due date and you pay at least the minimum amount due, you’ll see a late fee on your account that will be reversed automatically when the payment posts in 1-2 days.  We’ll process this one-time electronic payment as scheduled.\n",
      "Sentiment scores: {'neg': 0.051, 'neu': 0.888, 'pos': 0.062, 'compound': 0.2382}\n",
      "Positive\n",
      "\n",
      " Thanks, Seth!  Thanks for being a Prime Student member! Based on our records, your Prime Student Membership discount will end on April 06, 2021. On that date, your Prime benefits will automatically renew at the full-price Prime and will continue to get free Two-Day Shipping, access to thousands of movies, TV shows, Music, eBooks, unlimited photo storage, and more. The change will be automatic, charging your default credit card (or another card on file) the Amazon Prime membership fee of $119.00/year plus taxes. Get the most out of everything Prime With the Prime Insider Newsletter, you get shopping tips, exclusive interviews and user guides, plus offers and deals just for Prime members delivered weekly to your inbox. Get the newsletter If you are not interested in continuing with Amazon Prime, please visit Manage Your Prime Membership to cancel. For more details, please refer to our Student Help section on expiration and the Prime Student Terms & Conditions. The Prime Student $59.00/year plus taxes plan includes the same benefits as Amazon Prime, but these benefits can't be shared with another account. Amazon.com, Inc or it's affiliates. All rights reserved. Amazon.com and the Amazon logo are registered trademarks of Amazon.com or it's affiliates. Amazon.com 410 Terry Avenue N, Seattle, WA 98109. Reference 22596140. \n",
      "Sentiment scores: {'neg': 0.025, 'neu': 0.85, 'pos': 0.124, 'compound': 0.9355}\n",
      "Positive\n",
      "\n",
      "Hi Seth, Your package has been delivered!  How was your delivery?\n",
      "Sentiment scores: {'neg': 0.0, 'neu': 1.0, 'pos': 0.0, 'compound': 0.0}\n",
      "Neutral\n",
      "\n",
      "A new device has been used to sign in to this Nintendo Account.  Device: Windows Browser: Firefox Date and time: 2/19/2021 08:37 Location: United States  If you do not recognize this sign-in activity, your account may have been accessed by an unauthorized third party. Please use the following link to change your password. https://accounts.nintendo.com/password/edit  You can review your sign-in history here. https://accounts.nintendo.com/login_history  Please note the location is estimated based on the IP address used at the time of sign-in. *You cannot opt out of this kind of e-mail.\n",
      "Sentiment scores: {'neg': 0.0, 'neu': 0.892, 'pos': 0.108, 'compound': 0.8442}\n",
      "Positive\n",
      "\n",
      "Hi Seth,  Thank you for shopping with us, your payment overview is below. If we send more than one package, you might see more than one payment overview notice.  We'll get your shipment to you as soon as possible. In the meantime, feel free to contact us with any questions.  Nike.com\n",
      "Sentiment scores: {'neg': 0.0, 'neu': 0.894, 'pos': 0.106, 'compound': 0.7003}\n",
      "Positive\n",
      "\n",
      "Hi Seth, Rate your experience with the seller, MakerHawk-US:\n",
      "Sentiment scores: {'neg': 0.0, 'neu': 1.0, 'pos': 0.0, 'compound': 0.0}\n",
      "Neutral\n",
      "\n",
      "Thank you again for your order of  (150 Pieces) PGN - 1/4\" Inch (0.25\") Precision Chrome Steel Bearing Balls G25  The available tracking information shows that your item is out for delivery today.  When you receive your item, please take a moment to verify that it was not damaged in transit. If there is any reason that you wouldn't be satisfied with your experience, please reply this email right away and we'll do what we can to make it right. You can also rate your experience shopping with us by leaving a feedback clicking on the link below.\n",
      "Sentiment scores: {'neg': 0.023, 'neu': 0.884, 'pos': 0.093, 'compound': 0.733}\n",
      "Positive\n",
      "\n",
      "Your job alert for software engineer  30+ new jobs in New Jersey, United States match your preferences. Optello \t Software Developer - (Remote EST)  Optello · Beach Haven, NJ, US \t  \t  Actively recruiting LinkedIn \t  \t  Easy Apply Capgemini \t Full Stack Java Developer (contract)  Capgemini · Jersey City, New Jersey, United States \n",
      "Sentiment scores: {'neg': 0.0, 'neu': 0.755, 'pos': 0.245, 'compound': 0.9001}\n",
      "Positive\n",
      "\n",
      "The best way to celebrate Pokémon Day? Entering to win all of the Shining Fates releases so far for just $1. All you have to do is hit Bid Now before 12:00PM EST on Sunday, February 28, 2021 and you will be entered for a chance to win. Remember: You will only be charged the $1 if you are selected as a winner. For a complete list of all official rules and alternative methods of entry please click here.\n",
      "Sentiment scores: {'neg': 0.019, 'neu': 0.728, 'pos': 0.253, 'compound': 0.9712}\n",
      "Positive\n",
      "\n",
      "This is just a quick message to confirm that you have completed: Pre-employment Cognitive Ability Free Mock Test at a score of: 60%  Categories: * Numerical Reasoning - number series33.33% * Numerical Reasoning - lowest value.100% * Numerical Reasoning - word problems50% * Abstract Reasoning - analogies.....0% * Abstract Reasoning - common features0% * Verbal Reasoning - assumptions & conclusions66.67% * Verbal Reasoning - antonyms........100% * Abstract Reasoning - shape series..50% * Verbal Reasoning - analogies.......100% * Numerical Reasoning - general......100% * Verbal Reasoning - antonym-synonym.0% * Following instructions.............100% * Accuracy & precision...........100% * Verbal Reasoning - family trees....100% * Verbal Reasoning - odd word/s......50% * Abstract Reasoning - matrices......0% :  Please note:      This is not a percentile score as will be used in the real test. This is the success rate in percentages. For example, if you answered 25 correct out of 50, then the score is 50%.\n",
      "Sentiment scores: {'neg': 0.061, 'neu': 0.836, 'pos': 0.103, 'compound': 0.6369}\n",
      "Positive\n",
      "\n",
      "Hi Seth,  I wanted to touch base after you've had some time to go over your free resume review from Resume Worded.  Your resume scored 62 out of 100. Login here to revisit your analysis and feedback.  It's worth remembering that it’s not your experience that lands you an interview; it’s how your resume presents that experience. Even the most accomplished candidate in the world will not get an interview with a poor resume.  If you want to quickly increase your resume's impact, here are 3 things you should do now:      See how successful candidates wrote their resume's bullet points - login to your report for 250+ real bullet points from top resumes that you can use as inspiration (click the Sample Resume Lines tab in your report)     Tailor your resume to the job you're applying to by using the right keywords (see Targeted Resume)     Make the changes we've outlined in your resume review (login to access)  Once you've made changes to your resume, you can reupload it for free to see how you have improved!  Is there anything else I can do to help you achieve your career goals? Just let me know by replying to this email.   Good luck,  -Rohan Founder, Resume Worded\n",
      "Sentiment scores: {'neg': 0.014, 'neu': 0.825, 'pos': 0.161, 'compound': 0.9837}\n",
      "Positive\n",
      "\n",
      "New Week? New LeetCode Pick Winner! Check out their post about the Disjoint Set Union! Share your post today for a chance to win LeetCoins and exclusive goodies! Friendly reminder to join us for the February LeetCoding Challenge and earn LeetCoins! Happy LeetCoding! \n",
      "Sentiment scores: {'neg': 0.0, 'neu': 0.57, 'pos': 0.43, 'compound': 0.9715}\n",
      "Positive\n",
      "\n",
      "We are writing to let you know that an error in our domain verification check process for Firebase Hosting caused a number of emails with a subject line of: [Firebase] Re-verify ownership of your Hosting domain to be sent incorrectly. You’re receiving this email because you were sent one or more ownership re-verification notices between February 23 to February 24, 2021.\n",
      "Sentiment scores: {'neg': 0.044, 'neu': 0.934, 'pos': 0.021, 'compound': -0.34}\n",
      "Negative\n",
      "\n",
      "Thank you for your recent transaction on Steam. The items below have been added to your Steam Library.  If you are new to Steam, you can get the free Steam application here.\n",
      "Sentiment scores: {'neg': 0.0, 'neu': 0.838, 'pos': 0.162, 'compound': 0.7003}\n",
      "Positive\n",
      "\n",
      "Thank you for your order from the Modern Baseball Official Webstore! We wanted to let you know that your order (#25G05253JY872501G) was shipped via USPS, USPS First Class Mail on 2/23/2021.  You can track your package at any time using the link below.\n",
      "Sentiment scores: {'neg': 0.0, 'neu': 0.938, 'pos': 0.062, 'compound': 0.4199}\n",
      "Positive\n",
      "\n",
      "Hi ,  Your print job is done. You print a lot, which is awesome  That also means you have kept The Detective pretty busy and now your Detective Hours (what is it?) have run out. The Detective is no longer watching your prints, and you won't get alerted even if your prints start to fail.  Everything else remains the same. You can still start, pause, or cancel your prints. Your webcam feed will stream as usual too.  There are several ways to get more Detective Hours:      Earn Detective Hours by helping The Detective get better at her job.     Buy Pre-paid Detective Hour Pack.     Upgrade to the Pro plan. You get 50, instead of 10, free Detective Hours a month with the Pro plan. Also you can add Subscribe&Save Detective Hour Pack to your Pro plan at rates much lower than Pre-paid Packs. \n",
      "Sentiment scores: {'neg': 0.064, 'neu': 0.835, 'pos': 0.101, 'compound': 0.7783}\n",
      "Positive\n",
      "\n",
      "You print a lot, which is awesome!👍👍👍  That also means you have kept The Detective pretty busy and now your Detective Hours (what is it?) have run out. The Detective is no longer watching your prints, and you won't get alerted even if your prints start to fail.  Everything else remains the same. You can still start, pause, or cancel your prints. Your webcam feed will stream as usual too.  There are several ways to get more Detective Hours:      Earn Detective Hours by helping The Detective get better at her job.     Buy Pre-paid Detective Hour Pack.     Upgrade to the Pro plan. You get 50, instead of 10, free Detective Hours a month with the Pro plan. Also you can add Subscribe&Save Detective Hour Pack to your Pro plan at rates much lower than Pre-paid Packs. \n",
      "Sentiment scores: {'neg': 0.067, 'neu': 0.852, 'pos': 0.081, 'compound': 0.4574}\n",
      "Positive\n",
      "\n",
      " Thank you for registering for a Cadmapper account.  Please verify your email by clicking this link, or pasting it into your browser address bar:\n",
      "Sentiment scores: {'neg': 0.0, 'neu': 0.814, 'pos': 0.186, 'compound': 0.5859}\n",
      "Positive\n",
      "\n",
      "You only have until 11:59PM EST Tuesday, February 23, 2021 to sell either the Shining Fates Elite Trainer Box 2x or 4x lot to unlock an automatic 25% off the seller fees. So stop waiting and get more money back in that payout! Remember, your Ask must be accepted within the above timeframe to receive the discount.\n",
      "Sentiment scores: {'neg': 0.047, 'neu': 0.918, 'pos': 0.035, 'compound': -0.1742}\n",
      "Negative\n",
      "\n",
      "Hi Seth,  I found a job you may be interested in: 100% REMOTE - Senior Fullstack Engineer  If you'd like to apply, let me know in a quick response with your updated resume. Full job details below.  f you are a Senior Software Engineer with Python and React experience, please read on!  We headquartered in San Francisco, CA area and we are a cutting-edge fintech company that has a passion for helping people. We are revolutionizing an industry that is one of the fastest growing in healthcare! We provide financing solutions and options for people that are looking to advance their lives. We look to take the burden off families during an already stressful process so that they can enjoy the overall process they will be going through. We have only been in business a short time, but are growing very rapidly and making waves in an ever-evolving industry.  We are looking for a Senior Fullstack Engineer who excels with multi-tasking and can help build scalable new software applications and be an integral member on the small team. YOU MUST HAVE EXPERIENCE IN FULLSTACK DEVELOPMENT to be successful in this position.  This person will need to have experience in fullstack development with any front and backend languages and also will have worked heavily with API's. Our tech stack is Python, Flask, and React, but we if you have worked with different development tools in fullstack, that is ok too! We would love to see someone that has experience with a fintech company, although that is not required. This person will be a core member of our team and will work alongside other engineers and professionals who are like-minded and passionate about what we do. Top Reasons to Work with Us -Excellent work environment -HUGE room for growth -Work with a stable, growing company! - Work on something that is changing people lives, literally! What You Will Be Doing - Full-stack software development building scalable software applications - Working with Python and JavaScript (React) - Work heavily through the SDLC from start to finish - Work on testing development and code reviews - Be an integral part of our product and partner with the product development team to insure quality What You Need for this Position Over 3 years of experience in:  - Fullstack web development - Working experience with Python and Flask preferably, but other backend languages are acceptable. - Working frontend development with React.js preferably, but other front end frameworks are also acceptable. - Knowledge of databases specifically with NoSQL - GCP - Building out RESTful APIs. So, if you are a Senior Fullstack Engineer with true fullstack web development experience, please apply today!\n",
      "Sentiment scores: {'neg': 0.009, 'neu': 0.824, 'pos': 0.167, 'compound': 0.9971}\n",
      "Positive\n",
      "\n",
      "Thanks for applying for the position of Software Engineer - Direct Client with Macrosoft through Dice. \n",
      "Sentiment scores: {'neg': 0.0, 'neu': 0.828, 'pos': 0.172, 'compound': 0.4404}\n",
      "Positive\n",
      "\n",
      "Thank you for registering your account with ECi Software Solutions Career Careers.  Please check back with our careers site to view our openings and apply for jobs.  Thank you,  ECi Software Solutions Career  Please note: This email was sent from an auto-notification system that cannot accept incoming email. Please do not reply to this message. If this was not you, please click the link below and the account will be deactivated.  Deactivate Account\n",
      "Sentiment scores: {'neg': 0.05, 'neu': 0.767, 'pos': 0.183, 'compound': 0.8463}\n",
      "Positive\n",
      "\n",
      " For any issues, including the recipient not receiving funds, please contact us at support@venmo.com or call 1-855-812-4430. See our disclosures for more information. Please do not reply directly to this email. For more assistance, visit our Help Center at help.venmo.com. This payment will be reviewed for compliance with our User Agreement and if we determine that there is a violation by either party, it may be reversed or your ability to transfer to your bank account may be restricted. \n",
      "Sentiment scores: {'neg': 0.085, 'neu': 0.767, 'pos': 0.148, 'compound': 0.6924}\n",
      "Positive\n",
      "\n",
      "Hi Seth,  Your financial statement for Jan 16, 2021 through Feb 15, 2021 has been generated. \n",
      "Sentiment scores: {'neg': 0.0, 'neu': 1.0, 'pos': 0.0, 'compound': 0.0}\n",
      "Neutral\n",
      "\n",
      "Hi Valued Client,  Retail investors have more information and more tools at their fingertips than ever before.   But while charting tools, income statements and commission-free trading are empowering many, intermediaries continue to hold power over order execution and transparency, a structure that appears to tip the scales in favor of established investors.  Still, it’s not easy to understand how and when you might be putting your money at risk.   That’s why Kraken Intelligence, our in-house research experts, has compiled a robust analysis of how markets are structured that examines both the issues inherent in traditional markets and how cryptocurrencies and digital assets level the playing field.\n",
      "Sentiment scores: {'neg': 0.048, 'neu': 0.808, 'pos': 0.143, 'compound': 0.8818}\n",
      "Positive\n",
      "\n",
      "Hi there, Hope you are doing well,   We have an immediate opening with our client, let me know if you are comfortable with the below requirement.    Role  :-         IOS DEVELOPER (W2 Consultant Only) Location :-  Fully Remote Long term Contract   Required :-        5+ years of experience in iOS development using Swift and Objective C (some flex on YOE)     React Native experience highly preferred but not required – could be supplemented by more years of Swift/Obj C experience      Thanks & Regards,\n",
      "Sentiment scores: {'neg': 0.0, 'neu': 0.867, 'pos': 0.133, 'compound': 0.836}\n",
      "Positive\n",
      "\n",
      "What's happening We've enhanced our security requirements to better protect your accounts and personal information. As a result, you'll need to create a new, stronger password to access your accounts online.  You can disregard this email if you've changed your password within the last few days.  What you should know We'll briefly interrupt your online banking experience in the near future to ask you to change your password. You can avoid this interruption and enhance your security by changing your password now.  What you need to do Create a new password after you sign on. There are two ways to do this:      On your computer, go to Security & Support in the main menu, then select Change Password.     On your mobile device, go to Menu, tap your name or the profile icon, then tap Password.  What to do if you sign on with your fingerprint or face This sign-on feature for the mobile app will be disabled after you change your password. You can set up this feature again after you sign on with your username and new password.  Questions? We're here to help if you have any questions about changing your password. Please call us at 1-800-956-4442.  For your convenience, we've also sent this message to your alerts history in the Message Center.  Thank you for helping us keep your account information secure.  Wells Fargo Customer Service\n",
      "Sentiment scores: {'neg': 0.038, 'neu': 0.817, 'pos': 0.145, 'compound': 0.971}\n",
      "Positive\n",
      "\n",
      "I have emailed you the detailed job description. Please revert on email along with your details to submit your application.  Thanks & Regards Anchala Jain Talent Acquisition Group - North America TATA CONSULTANCY SERVICES || www.tcs.com \n",
      "Sentiment scores: {'neg': 0.0, 'neu': 0.789, 'pos': 0.211, 'compound': 0.7906}\n",
      "Positive\n",
      "\n",
      " Starting March 17, 2021, eBay will no longer offer sellers the option to change their invoiced currency to non-US currency on their eBay invoices. If you are currently receiving eBay invoices in a currency other than US dollars, you will continue to receive your invoices in your selected currency. Beginning March 17, you will only be able to change your non-US currency to US dollars. We are making this change to create a streamlined user experience for seller disbursements and charges when you join managed payments.  Most US sellers are already billed in US dollars. The change will affect a small percentage of sellers who currently use foreign currencies on their eBay invoices.  Thank you for selling on eBay, Your Selling Team \n",
      "Sentiment scores: {'neg': 0.034, 'neu': 0.911, 'pos': 0.054, 'compound': 0.3612}\n",
      "Positive\n",
      "\n",
      "Hi Seth,  I want to make finding a great remote opportunity easier by sending you jobs that could match your skills and experience.  Hope this one offers you the flexibility you need to thrive: Mobile Engineer.  If this isn’t the right opportunity for you, perhaps you know someone else that may be interested?  Either way, I hope I can still be a resource for you down the line. Wishing you all the best!  Thanks, Sally\n",
      "Sentiment scores: {'neg': 0.0, 'neu': 0.63, 'pos': 0.37, 'compound': 0.9848}\n",
      "Positive\n",
      "\n",
      "Hello Seth,  I just wanted to take a second to thank you for your business, and your recent purchase from my store. If you have any questions or if there is anything else I can help you with, please reach out to me without hesitation.  Thank you again.  Cheers, Jay J2Games\n",
      "Sentiment scores: {'neg': 0.037, 'neu': 0.724, 'pos': 0.239, 'compound': 0.8557}\n",
      "Positive\n",
      "\n",
      "Your free YouMail plan includes 20 in-app transcriptions per month. Upgrade to any premium plan to get more per month, and also see and search them online and in email alerts. \n",
      "Sentiment scores: {'neg': 0.0, 'neu': 0.901, 'pos': 0.099, 'compound': 0.5106}\n",
      "Positive\n",
      "\n",
      " Support resources for developers at all levels  How's it going? If you're a little lost, don't worry.  Get the directions you need — from free community resources to premium support:      Search our award-winning documentation to go deep on all aspects of our SDKs and APIs.     See step-by-step tutorials to get you started or take your project to the next level.     Join the conversation on Stack Overflow to find answers from developers and Mapbox support engineers.     Tweet @mapboxsupport for helpful responses and less-helpful gifs.  Need a bit more?      Pay-as-you-go email support with guaranteed response times and no contracts or commitments: Subscribe in your account     Faster response and dedicated technical account management: See Business and Premium plan SLAs.      We can't wait to see what you build!     - Mapbox Support team \n",
      "Sentiment scores: {'neg': 0.029, 'neu': 0.769, 'pos': 0.202, 'compound': 0.9715}\n",
      "Positive\n",
      "\n"
     ]
    },
    {
     "name": "stderr",
     "output_type": "stream",
     "text": [
      "[nltk_data] Downloading package vader_lexicon to\n",
      "[nltk_data]     C:\\Users\\kiera\\AppData\\Roaming\\nltk_data...\n",
      "[nltk_data]   Package vader_lexicon is already up-to-date!\n"
     ]
    }
   ],
   "source": [
    "import nltk\n",
    "from nltk.sentiment import SentimentIntensityAnalyzer\n",
    "\n",
    "nltk.download('vader_lexicon')\n",
    "\n",
    "sentimentanalyser = SentimentIntensityAnalyzer()\n",
    "\n",
    "non_rejection_emails = df[df['Status'] == 'not_reject']\n",
    "\n",
    "for email_text in non_rejection_emails['Email']:\n",
    "    sentiment_data = sentimentanalyser.polarity_scores(email_text)\n",
    "    print(email_text)\n",
    "    print(f\"Sentiment scores: {sentiment_data}\")\n",
    "\n",
    "    # Determine the overall sentiment\n",
    "    if sentiment_data['compound'] >= 0.05:\n",
    "        print(\"Positive\")\n",
    "    elif sentiment_data['compound'] <= -0.05:\n",
    "        print(\"Negative\")\n",
    "    else:\n",
    "        print(\"Neutral\")\n",
    "    print()\n"
   ]
  }
 ],
 "metadata": {
  "kernelspec": {
   "display_name": "Python 3 (ipykernel)",
   "language": "python",
   "name": "python3"
  },
  "language_info": {
   "codemirror_mode": {
    "name": "ipython",
    "version": 3
   },
   "file_extension": ".py",
   "mimetype": "text/x-python",
   "name": "python",
   "nbconvert_exporter": "python",
   "pygments_lexer": "ipython3",
   "version": "3.11.8"
  },
  "papermill": {
   "default_parameters": {},
   "duration": 8.412623,
   "end_time": "2021-02-27T19:54:41.333676",
   "environment_variables": {},
   "exception": null,
   "input_path": "__notebook__.ipynb",
   "output_path": "__notebook__.ipynb",
   "parameters": {},
   "start_time": "2021-02-27T19:54:32.921053",
   "version": "2.2.2"
  }
 },
 "nbformat": 4,
 "nbformat_minor": 4
}
